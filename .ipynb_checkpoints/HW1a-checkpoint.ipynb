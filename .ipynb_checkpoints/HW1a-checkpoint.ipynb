{
 "cells": [
  {
   "cell_type": "markdown",
   "metadata": {},
   "source": [
    "# This is Prof. Richmond's HW#1 for Exoplanets Class (2016/10)\n",
    "http://spiff.rit.edu/classes/resceu/homework/hw1.html"
   ]
  },
  {
   "cell_type": "code",
   "execution_count": 3,
   "metadata": {
    "collapsed": true
   },
   "outputs": [],
   "source": [
    "import numpy as np\n",
    "import matplotlib.pyplot as plt\n",
    "%matplotlib inline\n",
    "import time"
   ]
  },
  {
   "cell_type": "code",
   "execution_count": 10,
   "metadata": {
    "collapsed": false,
    "scrolled": true
   },
   "outputs": [
    {
     "name": "stdout",
     "output_type": "stream",
     "text": [
      "retrieving URL: http://exoplanetarchive.ipac.caltech.edu/cgi-bin/nstedAPI/nph-nstedAPI?table=exoplanets\n",
      "created file: confirmed_planets_20161010.csv\n"
     ]
    }
   ],
   "source": [
    "import urllib.request\n",
    "\n",
    "url = 'http://exoplanetarchive.ipac.caltech.edu/cgi-bin/nstedAPI/nph-nstedAPI?table=exoplanets'\n",
    "req = urllib.request.Request(url)\n",
    "with urllib.request.urlopen(req) as response:\n",
    "   html = response.read()\n",
    "\n",
    "outpath = 'confirmed_planets_{}.csv'.format(time.strftime(\"%Y%m%d\")) #include date of download\n",
    "\n",
    "print(\"retrieving URL: {}\".format(url))\n",
    "\n",
    "with open(outpath,'wb') as f:\n",
    "     f.write(html)\n",
    "print(\"created file: {}\".format(outpath))"
   ]
  },
  {
   "cell_type": "markdown",
   "metadata": {},
   "source": [
    "Let's check the downloaded file."
   ]
  },
  {
   "cell_type": "code",
   "execution_count": 9,
   "metadata": {
    "collapsed": false,
    "scrolled": true
   },
   "outputs": [
    {
     "data": {
      "text/plain": [
       "b'pl_hostname,pl_letter,pl_discmethod,pl_pnum,pl_orbper,pl_orbpererr1,pl_orbpererr2,pl_orbperlim,pl_or'"
      ]
     },
     "execution_count": 9,
     "metadata": {},
     "output_type": "execute_result"
    }
   ],
   "source": [
    "html[:100]"
   ]
  },
  {
   "cell_type": "markdown",
   "metadata": {},
   "source": [
    "Or better yet, parse into table using pandas: "
   ]
  },
  {
   "cell_type": "code",
   "execution_count": 12,
   "metadata": {
    "collapsed": false
   },
   "outputs": [
    {
     "data": {
      "text/html": [
       "<div>\n",
       "<table border=\"1\" class=\"dataframe\">\n",
       "  <thead>\n",
       "    <tr style=\"text-align: right;\">\n",
       "      <th></th>\n",
       "      <th>pl_hostname</th>\n",
       "      <th>pl_letter</th>\n",
       "      <th>pl_discmethod</th>\n",
       "      <th>pl_pnum</th>\n",
       "      <th>pl_orbper</th>\n",
       "      <th>pl_orbpererr1</th>\n",
       "      <th>pl_orbpererr2</th>\n",
       "      <th>pl_orbperlim</th>\n",
       "      <th>pl_orbpern</th>\n",
       "      <th>pl_orbsmax</th>\n",
       "      <th>...</th>\n",
       "      <th>st_massblend</th>\n",
       "      <th>st_massn</th>\n",
       "      <th>st_rad</th>\n",
       "      <th>st_raderr1</th>\n",
       "      <th>st_raderr2</th>\n",
       "      <th>st_radlim</th>\n",
       "      <th>st_radblend</th>\n",
       "      <th>st_radn</th>\n",
       "      <th>pl_nnotes</th>\n",
       "      <th>rowupdate</th>\n",
       "    </tr>\n",
       "  </thead>\n",
       "  <tbody>\n",
       "    <tr>\n",
       "      <th>0</th>\n",
       "      <td>HD 17156</td>\n",
       "      <td>b</td>\n",
       "      <td>Radial Velocity</td>\n",
       "      <td>1</td>\n",
       "      <td>21.21663</td>\n",
       "      <td>0.00045</td>\n",
       "      <td>-0.00045</td>\n",
       "      <td>0.0</td>\n",
       "      <td>4</td>\n",
       "      <td>0.1614</td>\n",
       "      <td>...</td>\n",
       "      <td>0.0</td>\n",
       "      <td>5</td>\n",
       "      <td>1.44</td>\n",
       "      <td>0.08</td>\n",
       "      <td>-0.08</td>\n",
       "      <td>0.0</td>\n",
       "      <td>0.0</td>\n",
       "      <td>5</td>\n",
       "      <td>0</td>\n",
       "      <td>2014-10-29</td>\n",
       "    </tr>\n",
       "    <tr>\n",
       "      <th>1</th>\n",
       "      <td>HD 18742</td>\n",
       "      <td>b</td>\n",
       "      <td>Radial Velocity</td>\n",
       "      <td>1</td>\n",
       "      <td>772.00000</td>\n",
       "      <td>11.00000</td>\n",
       "      <td>-11.00000</td>\n",
       "      <td>0.0</td>\n",
       "      <td>1</td>\n",
       "      <td>1.9200</td>\n",
       "      <td>...</td>\n",
       "      <td>0.0</td>\n",
       "      <td>3</td>\n",
       "      <td>4.90</td>\n",
       "      <td>0.10</td>\n",
       "      <td>-0.10</td>\n",
       "      <td>0.0</td>\n",
       "      <td>0.0</td>\n",
       "      <td>2</td>\n",
       "      <td>0</td>\n",
       "      <td>2014-05-14</td>\n",
       "    </tr>\n",
       "    <tr>\n",
       "      <th>2</th>\n",
       "      <td>HD 20794</td>\n",
       "      <td>b</td>\n",
       "      <td>Radial Velocity</td>\n",
       "      <td>3</td>\n",
       "      <td>18.31500</td>\n",
       "      <td>0.00800</td>\n",
       "      <td>-0.00800</td>\n",
       "      <td>0.0</td>\n",
       "      <td>1</td>\n",
       "      <td>0.1207</td>\n",
       "      <td>...</td>\n",
       "      <td>0.0</td>\n",
       "      <td>5</td>\n",
       "      <td>NaN</td>\n",
       "      <td>NaN</td>\n",
       "      <td>NaN</td>\n",
       "      <td>NaN</td>\n",
       "      <td>0.0</td>\n",
       "      <td>2</td>\n",
       "      <td>0</td>\n",
       "      <td>2015-08-27</td>\n",
       "    </tr>\n",
       "    <tr>\n",
       "      <th>3</th>\n",
       "      <td>HD 20794</td>\n",
       "      <td>d</td>\n",
       "      <td>Radial Velocity</td>\n",
       "      <td>3</td>\n",
       "      <td>90.30900</td>\n",
       "      <td>0.18400</td>\n",
       "      <td>-0.18400</td>\n",
       "      <td>0.0</td>\n",
       "      <td>1</td>\n",
       "      <td>0.3499</td>\n",
       "      <td>...</td>\n",
       "      <td>0.0</td>\n",
       "      <td>5</td>\n",
       "      <td>NaN</td>\n",
       "      <td>NaN</td>\n",
       "      <td>NaN</td>\n",
       "      <td>NaN</td>\n",
       "      <td>0.0</td>\n",
       "      <td>2</td>\n",
       "      <td>0</td>\n",
       "      <td>2015-08-27</td>\n",
       "    </tr>\n",
       "    <tr>\n",
       "      <th>4</th>\n",
       "      <td>HD 20782</td>\n",
       "      <td>b</td>\n",
       "      <td>Radial Velocity</td>\n",
       "      <td>1</td>\n",
       "      <td>597.06500</td>\n",
       "      <td>0.04300</td>\n",
       "      <td>-0.04300</td>\n",
       "      <td>0.0</td>\n",
       "      <td>3</td>\n",
       "      <td>1.3970</td>\n",
       "      <td>...</td>\n",
       "      <td>0.0</td>\n",
       "      <td>5</td>\n",
       "      <td>1.09</td>\n",
       "      <td>0.04</td>\n",
       "      <td>-0.04</td>\n",
       "      <td>0.0</td>\n",
       "      <td>0.0</td>\n",
       "      <td>3</td>\n",
       "      <td>0</td>\n",
       "      <td>2016-05-19</td>\n",
       "    </tr>\n",
       "  </tbody>\n",
       "</table>\n",
       "<p>5 rows × 80 columns</p>\n",
       "</div>"
      ],
      "text/plain": [
       "  pl_hostname pl_letter    pl_discmethod  pl_pnum  pl_orbper  pl_orbpererr1  \\\n",
       "0    HD 17156         b  Radial Velocity        1   21.21663        0.00045   \n",
       "1    HD 18742         b  Radial Velocity        1  772.00000       11.00000   \n",
       "2    HD 20794         b  Radial Velocity        3   18.31500        0.00800   \n",
       "3    HD 20794         d  Radial Velocity        3   90.30900        0.18400   \n",
       "4    HD 20782         b  Radial Velocity        1  597.06500        0.04300   \n",
       "\n",
       "   pl_orbpererr2  pl_orbperlim  pl_orbpern  pl_orbsmax     ...      \\\n",
       "0       -0.00045           0.0           4      0.1614     ...       \n",
       "1      -11.00000           0.0           1      1.9200     ...       \n",
       "2       -0.00800           0.0           1      0.1207     ...       \n",
       "3       -0.18400           0.0           1      0.3499     ...       \n",
       "4       -0.04300           0.0           3      1.3970     ...       \n",
       "\n",
       "   st_massblend  st_massn  st_rad  st_raderr1  st_raderr2  st_radlim  \\\n",
       "0           0.0         5    1.44        0.08       -0.08        0.0   \n",
       "1           0.0         3    4.90        0.10       -0.10        0.0   \n",
       "2           0.0         5     NaN         NaN         NaN        NaN   \n",
       "3           0.0         5     NaN         NaN         NaN        NaN   \n",
       "4           0.0         5    1.09        0.04       -0.04        0.0   \n",
       "\n",
       "   st_radblend  st_radn  pl_nnotes   rowupdate  \n",
       "0          0.0        5          0  2014-10-29  \n",
       "1          0.0        2          0  2014-05-14  \n",
       "2          0.0        2          0  2015-08-27  \n",
       "3          0.0        2          0  2015-08-27  \n",
       "4          0.0        3          0  2016-05-19  \n",
       "\n",
       "[5 rows x 80 columns]"
      ]
     },
     "execution_count": 12,
     "metadata": {},
     "output_type": "execute_result"
    }
   ],
   "source": [
    "import pandas as pd\n",
    "df = pd.read_csv(outpath)\n",
    "df.head()"
   ]
  },
  {
   "cell_type": "raw",
   "metadata": {},
   "source": [
    "# COLUMN pl_hostname:    Host Name\n",
    "# COLUMN pl_letter:      Planet Letter\n",
    "# COLUMN pl_discmethod:  Discovery Method\n",
    "# COLUMN pl_pnum:        Number of Planets in System\n",
    "# COLUMN pl_orbper:      Orbital Period [days]\n",
    "# COLUMN pl_orbpererr1:  Orbital Period Upper Unc. [days]\n",
    "# COLUMN pl_orbpererr2:  Orbital Period Lower Unc. [days]\n",
    "# COLUMN pl_orbperlim:   Orbital Period Limit Flag\n",
    "# COLUMN pl_orbsmax:     Orbit Semi-Major Axis [AU]\n",
    "# COLUMN pl_orbsmaxerr1: Orbit Semi-Major Axis Upper Unc. [AU]\n",
    "# COLUMN pl_orbsmaxerr2: Orbit Semi-Major Axis Lower Unc. [AU]\n",
    "# COLUMN pl_orbsmaxlim:  Orbit Semi-Major Axis Limit Flag\n",
    "# COLUMN pl_orbeccen:    Eccentricity\n",
    "# COLUMN pl_orbeccenerr1: Eccentricity Upper Unc.\n",
    "# COLUMN pl_orbeccenerr2: Eccentricity Lower Unc.\n",
    "# COLUMN pl_orbeccenlim: Eccentricity Limit Flag\n",
    "# COLUMN pl_orbincl:     Inclination [deg]\n",
    "# COLUMN pl_orbinclerr1: Inclination Upper Unc. [deg]\n",
    "# COLUMN pl_orbinclerr2: Inclination Lower Unc. [deg]\n",
    "# COLUMN pl_orbincllim:  Inclination Limit Flag\n",
    "# COLUMN pl_bmassj:      Planet Mass or M*sin(i)[Jupiter mass]\n",
    "# COLUMN pl_bmassjerr1:  Planet Mass or M*sin(i)Upper Unc. [Jupiter mass]\n",
    "# COLUMN pl_bmassjerr2:  Planet Mass or M*sin(i)Lower Unc. [Jupiter mass]\n",
    "# COLUMN pl_bmassjlim:   Planet Mass or M*sin(i)Limit Flag\n",
    "# COLUMN pl_bmassprov:   Planet Mass or M*sin(i) Provenance\n",
    "# COLUMN pl_radj:        Planet Radius [Jupiter radii]\n",
    "# COLUMN pl_radjerr1:    Planet Radius Upper Unc. [Jupiter radii]\n",
    "# COLUMN pl_radjerr2:    Planet Radius Lower Unc. [Jupiter radii]\n",
    "# COLUMN pl_radjlim:     Planet Radius Limit Flag\n",
    "# COLUMN pl_dens:        Planet Density [g/cm**3]\n",
    "# COLUMN pl_denserr1:    Planet Density Upper Unc. [g/cm**3]\n",
    "# COLUMN pl_denserr2:    Planet Density Lower Unc. [g/cm**3]\n",
    "# COLUMN pl_denslim:     Planet Density Limit Flag\n",
    "# COLUMN pl_ttvflag:     TTV Flag\n",
    "# COLUMN pl_kepflag:     Kepler Field Flag\n",
    "# COLUMN pl_k2flag:      K2 Mission Flag\n",
    "# COLUMN pl_nnotes:      Number of Notes\n",
    "# COLUMN ra_str:         RA [sexagesimal]\n",
    "# COLUMN ra:             RA [sexagesimal]\n",
    "# COLUMN dec_str:        Dec [sexagesimal]\n",
    "# COLUMN dec:            Dec [sexagesimal]\n",
    "\n",
    "# COLUMN rowupdate:      Date of Last Update\n",
    "# COLUMN pl_disc:        Year of Discovery\n",
    "# COLUMN hd_name:        HD Name\n",
    "# COLUMN hip_name:       HIP Name"
   ]
  },
  {
   "cell_type": "markdown",
   "metadata": {},
   "source": [
    "Alternatively, we can use the downloaded csv as an input file. However, we need to manually include planet's discovery year (pl_disc) in the NASA database and then manually download. I've done it and saved as planets_raw.csv after removing manually the #headers above. So we will use this file instead."
   ]
  },
  {
   "cell_type": "code",
   "execution_count": 18,
   "metadata": {
    "collapsed": false
   },
   "outputs": [
    {
     "data": {
      "text/html": [
       "<div>\n",
       "<table border=\"1\" class=\"dataframe\">\n",
       "  <thead>\n",
       "    <tr style=\"text-align: right;\">\n",
       "      <th></th>\n",
       "      <th>rowid</th>\n",
       "      <th>pl_hostname</th>\n",
       "      <th>pl_letter</th>\n",
       "      <th>pl_discmethod</th>\n",
       "      <th>pl_pnum</th>\n",
       "      <th>pl_orbper</th>\n",
       "      <th>pl_orbpererr1</th>\n",
       "      <th>pl_orbpererr2</th>\n",
       "      <th>pl_orbperlim</th>\n",
       "      <th>pl_orbsmax</th>\n",
       "      <th>...</th>\n",
       "      <th>st_lumblend</th>\n",
       "      <th>st_dens</th>\n",
       "      <th>st_denserr1</th>\n",
       "      <th>st_denserr2</th>\n",
       "      <th>st_denslim</th>\n",
       "      <th>st_metratio</th>\n",
       "      <th>st_age</th>\n",
       "      <th>st_ageerr1</th>\n",
       "      <th>st_ageerr2</th>\n",
       "      <th>st_agelim</th>\n",
       "    </tr>\n",
       "  </thead>\n",
       "  <tbody>\n",
       "    <tr>\n",
       "      <th>0</th>\n",
       "      <td>3394</td>\n",
       "      <td>xi Aql</td>\n",
       "      <td>b</td>\n",
       "      <td>Radial Velocity</td>\n",
       "      <td>1</td>\n",
       "      <td>136.750000</td>\n",
       "      <td>0.250000</td>\n",
       "      <td>-0.250000</td>\n",
       "      <td>0.0</td>\n",
       "      <td>0.680000</td>\n",
       "      <td>...</td>\n",
       "      <td>0.0</td>\n",
       "      <td>NaN</td>\n",
       "      <td>NaN</td>\n",
       "      <td>NaN</td>\n",
       "      <td>NaN</td>\n",
       "      <td>[Fe/H]</td>\n",
       "      <td>NaN</td>\n",
       "      <td>NaN</td>\n",
       "      <td>NaN</td>\n",
       "      <td>0.0</td>\n",
       "    </tr>\n",
       "    <tr>\n",
       "      <th>1</th>\n",
       "      <td>3391</td>\n",
       "      <td>ups And</td>\n",
       "      <td>b</td>\n",
       "      <td>Radial Velocity</td>\n",
       "      <td>3</td>\n",
       "      <td>4.617033</td>\n",
       "      <td>0.000023</td>\n",
       "      <td>-0.000023</td>\n",
       "      <td>0.0</td>\n",
       "      <td>0.059222</td>\n",
       "      <td>...</td>\n",
       "      <td>0.0</td>\n",
       "      <td>NaN</td>\n",
       "      <td>NaN</td>\n",
       "      <td>NaN</td>\n",
       "      <td>NaN</td>\n",
       "      <td>NaN</td>\n",
       "      <td>5.00</td>\n",
       "      <td>NaN</td>\n",
       "      <td>NaN</td>\n",
       "      <td>0.0</td>\n",
       "    </tr>\n",
       "    <tr>\n",
       "      <th>2</th>\n",
       "      <td>3392</td>\n",
       "      <td>ups And</td>\n",
       "      <td>c</td>\n",
       "      <td>Radial Velocity</td>\n",
       "      <td>3</td>\n",
       "      <td>241.258000</td>\n",
       "      <td>0.064000</td>\n",
       "      <td>-0.064000</td>\n",
       "      <td>0.0</td>\n",
       "      <td>0.827774</td>\n",
       "      <td>...</td>\n",
       "      <td>0.0</td>\n",
       "      <td>NaN</td>\n",
       "      <td>NaN</td>\n",
       "      <td>NaN</td>\n",
       "      <td>NaN</td>\n",
       "      <td>NaN</td>\n",
       "      <td>5.00</td>\n",
       "      <td>NaN</td>\n",
       "      <td>NaN</td>\n",
       "      <td>0.0</td>\n",
       "    </tr>\n",
       "    <tr>\n",
       "      <th>3</th>\n",
       "      <td>3393</td>\n",
       "      <td>ups And</td>\n",
       "      <td>d</td>\n",
       "      <td>Radial Velocity</td>\n",
       "      <td>3</td>\n",
       "      <td>1276.460000</td>\n",
       "      <td>0.570000</td>\n",
       "      <td>-0.570000</td>\n",
       "      <td>0.0</td>\n",
       "      <td>2.513290</td>\n",
       "      <td>...</td>\n",
       "      <td>0.0</td>\n",
       "      <td>NaN</td>\n",
       "      <td>NaN</td>\n",
       "      <td>NaN</td>\n",
       "      <td>NaN</td>\n",
       "      <td>NaN</td>\n",
       "      <td>5.00</td>\n",
       "      <td>NaN</td>\n",
       "      <td>NaN</td>\n",
       "      <td>0.0</td>\n",
       "    </tr>\n",
       "    <tr>\n",
       "      <th>4</th>\n",
       "      <td>3390</td>\n",
       "      <td>tau Gem</td>\n",
       "      <td>b</td>\n",
       "      <td>Radial Velocity</td>\n",
       "      <td>1</td>\n",
       "      <td>305.500000</td>\n",
       "      <td>0.100000</td>\n",
       "      <td>-0.100000</td>\n",
       "      <td>0.0</td>\n",
       "      <td>1.170000</td>\n",
       "      <td>...</td>\n",
       "      <td>NaN</td>\n",
       "      <td>NaN</td>\n",
       "      <td>NaN</td>\n",
       "      <td>NaN</td>\n",
       "      <td>NaN</td>\n",
       "      <td>[Fe/H]</td>\n",
       "      <td>1.22</td>\n",
       "      <td>0.76</td>\n",
       "      <td>-0.76</td>\n",
       "      <td>0.0</td>\n",
       "    </tr>\n",
       "  </tbody>\n",
       "</table>\n",
       "<p>5 rows × 94 columns</p>\n",
       "</div>"
      ],
      "text/plain": [
       "   rowid pl_hostname pl_letter    pl_discmethod  pl_pnum    pl_orbper  \\\n",
       "0   3394      xi Aql         b  Radial Velocity        1   136.750000   \n",
       "1   3391     ups And         b  Radial Velocity        3     4.617033   \n",
       "2   3392     ups And         c  Radial Velocity        3   241.258000   \n",
       "3   3393     ups And         d  Radial Velocity        3  1276.460000   \n",
       "4   3390     tau Gem         b  Radial Velocity        1   305.500000   \n",
       "\n",
       "   pl_orbpererr1  pl_orbpererr2  pl_orbperlim  pl_orbsmax    ...      \\\n",
       "0       0.250000      -0.250000           0.0    0.680000    ...       \n",
       "1       0.000023      -0.000023           0.0    0.059222    ...       \n",
       "2       0.064000      -0.064000           0.0    0.827774    ...       \n",
       "3       0.570000      -0.570000           0.0    2.513290    ...       \n",
       "4       0.100000      -0.100000           0.0    1.170000    ...       \n",
       "\n",
       "   st_lumblend  st_dens  st_denserr1  st_denserr2  st_denslim  st_metratio  \\\n",
       "0          0.0      NaN          NaN          NaN         NaN       [Fe/H]   \n",
       "1          0.0      NaN          NaN          NaN         NaN          NaN   \n",
       "2          0.0      NaN          NaN          NaN         NaN          NaN   \n",
       "3          0.0      NaN          NaN          NaN         NaN          NaN   \n",
       "4          NaN      NaN          NaN          NaN         NaN       [Fe/H]   \n",
       "\n",
       "   st_age  st_ageerr1  st_ageerr2  st_agelim  \n",
       "0     NaN         NaN         NaN        0.0  \n",
       "1    5.00         NaN         NaN        0.0  \n",
       "2    5.00         NaN         NaN        0.0  \n",
       "3    5.00         NaN         NaN        0.0  \n",
       "4    1.22        0.76       -0.76        0.0  \n",
       "\n",
       "[5 rows x 94 columns]"
      ]
     },
     "execution_count": 18,
     "metadata": {},
     "output_type": "execute_result"
    }
   ],
   "source": [
    "#filename = 'confirmed_planets_20161010.csv'\n",
    "filename = 'planets_raw.csv'\n",
    "\n",
    "import pandas as pd\n",
    "df = pd.read_csv(filename,delimiter=',')\n",
    "df.head()"
   ]
  },
  {
   "cell_type": "markdown",
   "metadata": {},
   "source": [
    "# 1. Pick 2 methods by which exoplanets can be discovered. Make a graph showing the number of planets discovered by each method over the period 1995 - 2015."
   ]
  },
  {
   "cell_type": "code",
   "execution_count": 19,
   "metadata": {
    "collapsed": false
   },
   "outputs": [
    {
     "data": {
      "text/plain": [
       "Index(['rowid', 'pl_hostname', 'pl_letter', 'pl_discmethod', 'pl_pnum',\n",
       "       'pl_orbper', 'pl_orbpererr1', 'pl_orbpererr2', 'pl_orbperlim',\n",
       "       'pl_orbsmax', 'pl_orbsmaxerr1', 'pl_orbsmaxerr2', 'pl_orbsmaxlim',\n",
       "       'pl_orbeccen', 'pl_orbeccenerr1', 'pl_orbeccenerr2', 'pl_orbeccenlim',\n",
       "       'pl_orbincl', 'pl_orbinclerr1', 'pl_orbinclerr2', 'pl_orbincllim',\n",
       "       'pl_bmassj', 'pl_bmassjerr1', 'pl_bmassjerr2', 'pl_bmassjlim',\n",
       "       'pl_bmassprov', 'pl_radj', 'pl_radjerr1', 'pl_radjerr2', 'pl_radjlim',\n",
       "       'pl_dens', 'pl_denserr1', 'pl_denserr2', 'pl_denslim', 'pl_ttvflag',\n",
       "       'pl_kepflag', 'pl_k2flag', 'pl_nnotes', 'ra_str', 'ra', 'dec_str',\n",
       "       'dec', 'st_dist', 'st_disterr1', 'st_disterr2', 'st_distlim',\n",
       "       'st_optmag', 'st_optmagerr', 'st_optmaglim', 'st_optmagblend',\n",
       "       'st_optband', 'st_teff', 'st_tefferr1', 'st_tefferr2', 'st_tefflim',\n",
       "       'st_teffblend', 'st_mass', 'st_masserr1', 'st_masserr2', 'st_masslim',\n",
       "       'st_massblend', 'st_rad', 'st_raderr1', 'st_raderr2', 'st_radlim',\n",
       "       'st_radblend', 'rowupdate', 'pl_disc', 'hd_name', 'hip_name', 'st_sp',\n",
       "       'st_spstr', 'st_sperr', 'st_splim', 'st_spblend', 'st_logg',\n",
       "       'st_loggerr1', 'st_loggerr2', 'st_logglim', 'st_loggblend', 'st_lum',\n",
       "       'st_lumerr1', 'st_lumerr2', 'st_lumlim', 'st_lumblend', 'st_dens',\n",
       "       'st_denserr1', 'st_denserr2', 'st_denslim', 'st_metratio', 'st_age',\n",
       "       'st_ageerr1', 'st_ageerr2', 'st_agelim'],\n",
       "      dtype='object')"
      ]
     },
     "execution_count": 19,
     "metadata": {},
     "output_type": "execute_result"
    }
   ],
   "source": [
    "df.columns"
   ]
  },
  {
   "cell_type": "code",
   "execution_count": 20,
   "metadata": {
    "collapsed": false
   },
   "outputs": [
    {
     "data": {
      "text/plain": [
       "{'Astrometry',\n",
       " 'Eclipse Timing Variations',\n",
       " 'Imaging',\n",
       " 'Microlensing',\n",
       " 'Orbital Brightness Modulation',\n",
       " 'Pulsar Timing',\n",
       " 'Pulsation Timing Variations',\n",
       " 'Radial Velocity',\n",
       " 'Transit',\n",
       " 'Transit Timing Variations'}"
      ]
     },
     "execution_count": 20,
     "metadata": {},
     "output_type": "execute_result"
    }
   ],
   "source": [
    "set(df['pl_discmethod']) #planet discovery method"
   ]
  },
  {
   "cell_type": "markdown",
   "metadata": {},
   "source": [
    "I'll pick Transit and RV methods."
   ]
  },
  {
   "cell_type": "code",
   "execution_count": 21,
   "metadata": {
    "collapsed": true
   },
   "outputs": [],
   "source": [
    "idx1 = df['pl_discmethod'] == 'Transit'\n",
    "df_transit = df[idx1]\n",
    "\n",
    "idx2 = df['pl_discmethod'] == 'Radial Velocity'\n",
    "df_RV = df[idx2]"
   ]
  },
  {
   "cell_type": "code",
   "execution_count": 22,
   "metadata": {
    "collapsed": false,
    "scrolled": true
   },
   "outputs": [
    {
     "data": {
      "text/html": [
       "<div>\n",
       "<table border=\"1\" class=\"dataframe\">\n",
       "  <thead>\n",
       "    <tr style=\"text-align: right;\">\n",
       "      <th></th>\n",
       "      <th>rowid</th>\n",
       "      <th>pl_hostname</th>\n",
       "      <th>pl_letter</th>\n",
       "      <th>pl_discmethod</th>\n",
       "      <th>pl_pnum</th>\n",
       "      <th>pl_orbper</th>\n",
       "      <th>pl_orbpererr1</th>\n",
       "      <th>pl_orbpererr2</th>\n",
       "      <th>pl_orbperlim</th>\n",
       "      <th>pl_orbsmax</th>\n",
       "      <th>...</th>\n",
       "      <th>st_lumblend</th>\n",
       "      <th>st_dens</th>\n",
       "      <th>st_denserr1</th>\n",
       "      <th>st_denserr2</th>\n",
       "      <th>st_denslim</th>\n",
       "      <th>st_metratio</th>\n",
       "      <th>st_age</th>\n",
       "      <th>st_ageerr1</th>\n",
       "      <th>st_ageerr2</th>\n",
       "      <th>st_agelim</th>\n",
       "    </tr>\n",
       "  </thead>\n",
       "  <tbody>\n",
       "    <tr>\n",
       "      <th>25</th>\n",
       "      <td>3369</td>\n",
       "      <td>XO-5</td>\n",
       "      <td>b</td>\n",
       "      <td>Transit</td>\n",
       "      <td>1</td>\n",
       "      <td>4.187756</td>\n",
       "      <td>6.000000e-07</td>\n",
       "      <td>-6.000000e-07</td>\n",
       "      <td>0.0</td>\n",
       "      <td>0.05150</td>\n",
       "      <td>...</td>\n",
       "      <td>0.0</td>\n",
       "      <td>1.01</td>\n",
       "      <td>0.06</td>\n",
       "      <td>-0.06</td>\n",
       "      <td>0.0</td>\n",
       "      <td>[Fe/H]</td>\n",
       "      <td>NaN</td>\n",
       "      <td>NaN</td>\n",
       "      <td>NaN</td>\n",
       "      <td>0.0</td>\n",
       "    </tr>\n",
       "    <tr>\n",
       "      <th>26</th>\n",
       "      <td>3368</td>\n",
       "      <td>XO-4</td>\n",
       "      <td>b</td>\n",
       "      <td>Transit</td>\n",
       "      <td>1</td>\n",
       "      <td>4.125083</td>\n",
       "      <td>4.000000e-06</td>\n",
       "      <td>-4.000000e-06</td>\n",
       "      <td>0.0</td>\n",
       "      <td>NaN</td>\n",
       "      <td>...</td>\n",
       "      <td>NaN</td>\n",
       "      <td>NaN</td>\n",
       "      <td>NaN</td>\n",
       "      <td>NaN</td>\n",
       "      <td>NaN</td>\n",
       "      <td>[Fe/H]</td>\n",
       "      <td>2.1</td>\n",
       "      <td>0.6</td>\n",
       "      <td>-0.6</td>\n",
       "      <td>0.0</td>\n",
       "    </tr>\n",
       "    <tr>\n",
       "      <th>27</th>\n",
       "      <td>3367</td>\n",
       "      <td>XO-3</td>\n",
       "      <td>b</td>\n",
       "      <td>Transit</td>\n",
       "      <td>1</td>\n",
       "      <td>3.191524</td>\n",
       "      <td>6.800000e-06</td>\n",
       "      <td>-6.800000e-06</td>\n",
       "      <td>0.0</td>\n",
       "      <td>0.04540</td>\n",
       "      <td>...</td>\n",
       "      <td>NaN</td>\n",
       "      <td>NaN</td>\n",
       "      <td>NaN</td>\n",
       "      <td>NaN</td>\n",
       "      <td>NaN</td>\n",
       "      <td>NaN</td>\n",
       "      <td>NaN</td>\n",
       "      <td>NaN</td>\n",
       "      <td>NaN</td>\n",
       "      <td>NaN</td>\n",
       "    </tr>\n",
       "    <tr>\n",
       "      <th>30</th>\n",
       "      <td>3364</td>\n",
       "      <td>XO-2 N</td>\n",
       "      <td>b</td>\n",
       "      <td>Transit</td>\n",
       "      <td>1</td>\n",
       "      <td>2.615859</td>\n",
       "      <td>2.800000e-07</td>\n",
       "      <td>-2.800000e-07</td>\n",
       "      <td>0.0</td>\n",
       "      <td>0.03673</td>\n",
       "      <td>...</td>\n",
       "      <td>0.0</td>\n",
       "      <td>NaN</td>\n",
       "      <td>NaN</td>\n",
       "      <td>NaN</td>\n",
       "      <td>NaN</td>\n",
       "      <td>[Fe/H]</td>\n",
       "      <td>7.9</td>\n",
       "      <td>2.3</td>\n",
       "      <td>-3.0</td>\n",
       "      <td>0.0</td>\n",
       "    </tr>\n",
       "    <tr>\n",
       "      <th>31</th>\n",
       "      <td>3363</td>\n",
       "      <td>XO-1</td>\n",
       "      <td>b</td>\n",
       "      <td>Transit</td>\n",
       "      <td>1</td>\n",
       "      <td>3.941507</td>\n",
       "      <td>2.020000e-06</td>\n",
       "      <td>-2.020000e-06</td>\n",
       "      <td>0.0</td>\n",
       "      <td>0.04900</td>\n",
       "      <td>...</td>\n",
       "      <td>NaN</td>\n",
       "      <td>NaN</td>\n",
       "      <td>NaN</td>\n",
       "      <td>NaN</td>\n",
       "      <td>NaN</td>\n",
       "      <td>NaN</td>\n",
       "      <td>NaN</td>\n",
       "      <td>NaN</td>\n",
       "      <td>NaN</td>\n",
       "      <td>NaN</td>\n",
       "    </tr>\n",
       "  </tbody>\n",
       "</table>\n",
       "<p>5 rows × 94 columns</p>\n",
       "</div>"
      ],
      "text/plain": [
       "    rowid pl_hostname pl_letter pl_discmethod  pl_pnum  pl_orbper  \\\n",
       "25   3369        XO-5         b       Transit        1   4.187756   \n",
       "26   3368        XO-4         b       Transit        1   4.125083   \n",
       "27   3367        XO-3         b       Transit        1   3.191524   \n",
       "30   3364      XO-2 N         b       Transit        1   2.615859   \n",
       "31   3363        XO-1         b       Transit        1   3.941507   \n",
       "\n",
       "    pl_orbpererr1  pl_orbpererr2  pl_orbperlim  pl_orbsmax    ...      \\\n",
       "25   6.000000e-07  -6.000000e-07           0.0     0.05150    ...       \n",
       "26   4.000000e-06  -4.000000e-06           0.0         NaN    ...       \n",
       "27   6.800000e-06  -6.800000e-06           0.0     0.04540    ...       \n",
       "30   2.800000e-07  -2.800000e-07           0.0     0.03673    ...       \n",
       "31   2.020000e-06  -2.020000e-06           0.0     0.04900    ...       \n",
       "\n",
       "    st_lumblend  st_dens  st_denserr1  st_denserr2  st_denslim  st_metratio  \\\n",
       "25          0.0     1.01         0.06        -0.06         0.0       [Fe/H]   \n",
       "26          NaN      NaN          NaN          NaN         NaN       [Fe/H]   \n",
       "27          NaN      NaN          NaN          NaN         NaN          NaN   \n",
       "30          0.0      NaN          NaN          NaN         NaN       [Fe/H]   \n",
       "31          NaN      NaN          NaN          NaN         NaN          NaN   \n",
       "\n",
       "    st_age  st_ageerr1  st_ageerr2  st_agelim  \n",
       "25     NaN         NaN         NaN        0.0  \n",
       "26     2.1         0.6        -0.6        0.0  \n",
       "27     NaN         NaN         NaN        NaN  \n",
       "30     7.9         2.3        -3.0        0.0  \n",
       "31     NaN         NaN         NaN        NaN  \n",
       "\n",
       "[5 rows x 94 columns]"
      ]
     },
     "execution_count": 22,
     "metadata": {},
     "output_type": "execute_result"
    }
   ],
   "source": [
    "df_transit.head()"
   ]
  },
  {
   "cell_type": "code",
   "execution_count": 23,
   "metadata": {
    "collapsed": false,
    "scrolled": false
   },
   "outputs": [
    {
     "data": {
      "text/html": [
       "<div>\n",
       "<table border=\"1\" class=\"dataframe\">\n",
       "  <thead>\n",
       "    <tr style=\"text-align: right;\">\n",
       "      <th></th>\n",
       "      <th>rowid</th>\n",
       "      <th>pl_hostname</th>\n",
       "      <th>pl_letter</th>\n",
       "      <th>pl_discmethod</th>\n",
       "      <th>pl_pnum</th>\n",
       "      <th>pl_orbper</th>\n",
       "      <th>pl_orbpererr1</th>\n",
       "      <th>pl_orbpererr2</th>\n",
       "      <th>pl_orbperlim</th>\n",
       "      <th>pl_orbsmax</th>\n",
       "      <th>...</th>\n",
       "      <th>st_lumblend</th>\n",
       "      <th>st_dens</th>\n",
       "      <th>st_denserr1</th>\n",
       "      <th>st_denserr2</th>\n",
       "      <th>st_denslim</th>\n",
       "      <th>st_metratio</th>\n",
       "      <th>st_age</th>\n",
       "      <th>st_ageerr1</th>\n",
       "      <th>st_ageerr2</th>\n",
       "      <th>st_agelim</th>\n",
       "    </tr>\n",
       "  </thead>\n",
       "  <tbody>\n",
       "    <tr>\n",
       "      <th>0</th>\n",
       "      <td>3394</td>\n",
       "      <td>xi Aql</td>\n",
       "      <td>b</td>\n",
       "      <td>Radial Velocity</td>\n",
       "      <td>1</td>\n",
       "      <td>136.750000</td>\n",
       "      <td>0.250000</td>\n",
       "      <td>-0.250000</td>\n",
       "      <td>0.0</td>\n",
       "      <td>0.680000</td>\n",
       "      <td>...</td>\n",
       "      <td>0.0</td>\n",
       "      <td>NaN</td>\n",
       "      <td>NaN</td>\n",
       "      <td>NaN</td>\n",
       "      <td>NaN</td>\n",
       "      <td>[Fe/H]</td>\n",
       "      <td>NaN</td>\n",
       "      <td>NaN</td>\n",
       "      <td>NaN</td>\n",
       "      <td>0.0</td>\n",
       "    </tr>\n",
       "    <tr>\n",
       "      <th>1</th>\n",
       "      <td>3391</td>\n",
       "      <td>ups And</td>\n",
       "      <td>b</td>\n",
       "      <td>Radial Velocity</td>\n",
       "      <td>3</td>\n",
       "      <td>4.617033</td>\n",
       "      <td>0.000023</td>\n",
       "      <td>-0.000023</td>\n",
       "      <td>0.0</td>\n",
       "      <td>0.059222</td>\n",
       "      <td>...</td>\n",
       "      <td>0.0</td>\n",
       "      <td>NaN</td>\n",
       "      <td>NaN</td>\n",
       "      <td>NaN</td>\n",
       "      <td>NaN</td>\n",
       "      <td>NaN</td>\n",
       "      <td>5.00</td>\n",
       "      <td>NaN</td>\n",
       "      <td>NaN</td>\n",
       "      <td>0.0</td>\n",
       "    </tr>\n",
       "    <tr>\n",
       "      <th>2</th>\n",
       "      <td>3392</td>\n",
       "      <td>ups And</td>\n",
       "      <td>c</td>\n",
       "      <td>Radial Velocity</td>\n",
       "      <td>3</td>\n",
       "      <td>241.258000</td>\n",
       "      <td>0.064000</td>\n",
       "      <td>-0.064000</td>\n",
       "      <td>0.0</td>\n",
       "      <td>0.827774</td>\n",
       "      <td>...</td>\n",
       "      <td>0.0</td>\n",
       "      <td>NaN</td>\n",
       "      <td>NaN</td>\n",
       "      <td>NaN</td>\n",
       "      <td>NaN</td>\n",
       "      <td>NaN</td>\n",
       "      <td>5.00</td>\n",
       "      <td>NaN</td>\n",
       "      <td>NaN</td>\n",
       "      <td>0.0</td>\n",
       "    </tr>\n",
       "    <tr>\n",
       "      <th>3</th>\n",
       "      <td>3393</td>\n",
       "      <td>ups And</td>\n",
       "      <td>d</td>\n",
       "      <td>Radial Velocity</td>\n",
       "      <td>3</td>\n",
       "      <td>1276.460000</td>\n",
       "      <td>0.570000</td>\n",
       "      <td>-0.570000</td>\n",
       "      <td>0.0</td>\n",
       "      <td>2.513290</td>\n",
       "      <td>...</td>\n",
       "      <td>0.0</td>\n",
       "      <td>NaN</td>\n",
       "      <td>NaN</td>\n",
       "      <td>NaN</td>\n",
       "      <td>NaN</td>\n",
       "      <td>NaN</td>\n",
       "      <td>5.00</td>\n",
       "      <td>NaN</td>\n",
       "      <td>NaN</td>\n",
       "      <td>0.0</td>\n",
       "    </tr>\n",
       "    <tr>\n",
       "      <th>4</th>\n",
       "      <td>3390</td>\n",
       "      <td>tau Gem</td>\n",
       "      <td>b</td>\n",
       "      <td>Radial Velocity</td>\n",
       "      <td>1</td>\n",
       "      <td>305.500000</td>\n",
       "      <td>0.100000</td>\n",
       "      <td>-0.100000</td>\n",
       "      <td>0.0</td>\n",
       "      <td>1.170000</td>\n",
       "      <td>...</td>\n",
       "      <td>NaN</td>\n",
       "      <td>NaN</td>\n",
       "      <td>NaN</td>\n",
       "      <td>NaN</td>\n",
       "      <td>NaN</td>\n",
       "      <td>[Fe/H]</td>\n",
       "      <td>1.22</td>\n",
       "      <td>0.76</td>\n",
       "      <td>-0.76</td>\n",
       "      <td>0.0</td>\n",
       "    </tr>\n",
       "  </tbody>\n",
       "</table>\n",
       "<p>5 rows × 94 columns</p>\n",
       "</div>"
      ],
      "text/plain": [
       "   rowid pl_hostname pl_letter    pl_discmethod  pl_pnum    pl_orbper  \\\n",
       "0   3394      xi Aql         b  Radial Velocity        1   136.750000   \n",
       "1   3391     ups And         b  Radial Velocity        3     4.617033   \n",
       "2   3392     ups And         c  Radial Velocity        3   241.258000   \n",
       "3   3393     ups And         d  Radial Velocity        3  1276.460000   \n",
       "4   3390     tau Gem         b  Radial Velocity        1   305.500000   \n",
       "\n",
       "   pl_orbpererr1  pl_orbpererr2  pl_orbperlim  pl_orbsmax    ...      \\\n",
       "0       0.250000      -0.250000           0.0    0.680000    ...       \n",
       "1       0.000023      -0.000023           0.0    0.059222    ...       \n",
       "2       0.064000      -0.064000           0.0    0.827774    ...       \n",
       "3       0.570000      -0.570000           0.0    2.513290    ...       \n",
       "4       0.100000      -0.100000           0.0    1.170000    ...       \n",
       "\n",
       "   st_lumblend  st_dens  st_denserr1  st_denserr2  st_denslim  st_metratio  \\\n",
       "0          0.0      NaN          NaN          NaN         NaN       [Fe/H]   \n",
       "1          0.0      NaN          NaN          NaN         NaN          NaN   \n",
       "2          0.0      NaN          NaN          NaN         NaN          NaN   \n",
       "3          0.0      NaN          NaN          NaN         NaN          NaN   \n",
       "4          NaN      NaN          NaN          NaN         NaN       [Fe/H]   \n",
       "\n",
       "   st_age  st_ageerr1  st_ageerr2  st_agelim  \n",
       "0     NaN         NaN         NaN        0.0  \n",
       "1    5.00         NaN         NaN        0.0  \n",
       "2    5.00         NaN         NaN        0.0  \n",
       "3    5.00         NaN         NaN        0.0  \n",
       "4    1.22        0.76       -0.76        0.0  \n",
       "\n",
       "[5 rows x 94 columns]"
      ]
     },
     "execution_count": 23,
     "metadata": {},
     "output_type": "execute_result"
    }
   ],
   "source": [
    "df_RV.head()"
   ]
  },
  {
   "cell_type": "markdown",
   "metadata": {},
   "source": [
    "See the year of discovery for each method."
   ]
  },
  {
   "cell_type": "code",
   "execution_count": 24,
   "metadata": {
    "collapsed": false
   },
   "outputs": [
    {
     "data": {
      "text/plain": [
       "{2002, 2004, 2006, 2007, 2008, 2009, 2010, 2011, 2012, 2013, 2014, 2015, 2016}"
      ]
     },
     "execution_count": 24,
     "metadata": {},
     "output_type": "execute_result"
    }
   ],
   "source": [
    "set(df_transit['pl_disc'])"
   ]
  },
  {
   "cell_type": "code",
   "execution_count": 25,
   "metadata": {
    "collapsed": false,
    "scrolled": true
   },
   "outputs": [
    {
     "data": {
      "text/plain": [
       "{1989,\n",
       " 1995,\n",
       " 1996,\n",
       " 1998,\n",
       " 1999,\n",
       " 2000,\n",
       " 2001,\n",
       " 2002,\n",
       " 2003,\n",
       " 2004,\n",
       " 2005,\n",
       " 2006,\n",
       " 2007,\n",
       " 2008,\n",
       " 2009,\n",
       " 2010,\n",
       " 2011,\n",
       " 2012,\n",
       " 2013,\n",
       " 2014,\n",
       " 2015,\n",
       " 2016}"
      ]
     },
     "execution_count": 25,
     "metadata": {},
     "output_type": "execute_result"
    }
   ],
   "source": [
    "set(df_RV['pl_disc'])"
   ]
  },
  {
   "cell_type": "code",
   "execution_count": 26,
   "metadata": {
    "collapsed": false,
    "scrolled": true
   },
   "outputs": [
    {
     "data": {
      "text/plain": [
       "2016    1423\n",
       "2014     798\n",
       "2015      99\n",
       "2012      92\n",
       "2011      79\n",
       "2013      78\n",
       "2010      46\n",
       "2009      18\n",
       "2008      17\n",
       "2007      16\n",
       "2006       5\n",
       "2004       5\n",
       "2002       1\n",
       "Name: pl_disc, dtype: int64"
      ]
     },
     "execution_count": 26,
     "metadata": {},
     "output_type": "execute_result"
    }
   ],
   "source": [
    "df_transit['pl_disc'].value_counts(sort='False')"
   ]
  },
  {
   "cell_type": "markdown",
   "metadata": {},
   "source": [
    "Superimpose the transit and RV data."
   ]
  },
  {
   "cell_type": "code",
   "execution_count": 27,
   "metadata": {
    "collapsed": false,
    "scrolled": false
   },
   "outputs": [
    {
     "data": {
      "image/png": "[encoded data removed]",
      "text/plain": [
       "<matplotlib.figure.Figure at 0x7fbd82433f98>"
      ]
     },
     "metadata": {},
     "output_type": "display_data"
    }
   ],
   "source": [
    "#create a new 2-column dataframe\n",
    "df2= pd.DataFrame(df_RV['pl_disc'].value_counts(sort=False)) \n",
    "df2['Transit'] = df_transit['pl_disc'].value_counts(sort=False)\n",
    "df2.columns = ['RV','Transit']\n",
    "\n",
    "ax = df2.sort_index(axis=0).plot.bar()\n",
    "ax.set_xticklabels(ax.xaxis.get_majorticklabels(), rotation=45)\n",
    "ax.set_ylim([0,800])\n",
    "#the interval [1995, 2015] can't be used since it is an array of year; 0=1989 and len(df2)=2016\n",
    "ax.set_xlim([1,len(df2)-1]) \n",
    "ax.set_ylabel('Count')\n",
    "ax.set_xlabel('Year of discovery')\n",
    "plt.show()"
   ]
  },
  {
   "cell_type": "code",
   "execution_count": 28,
   "metadata": {
    "collapsed": false
   },
   "outputs": [],
   "source": [
    "# import seaborn as sb\n",
    "# with sb.axes_style('whitegrid'):\n",
    "#     ax, fig = plt.subplots(1,1,figsize=(15,3))\n",
    "#     ax.hist(df_transit['pl_disc'].dropna(), bins=20)\n",
    "#     ax.hist(df_RV['pl_disc'].dropna(), bins=20, alpha=0.7)\n",
    "#     ax.xlabel('Year of discovery]')\n",
    "#     ax.ylabel('Count')\n",
    "#     ax.legend(['Transit','RV'])\n",
    "#     ax.xlim([1995,2015])\n",
    "#     ax.ylim([0,1000])"
   ]
  },
  {
   "cell_type": "markdown",
   "metadata": {
    "collapsed": true
   },
   "source": [
    "# 2. Look at the names of the host stars. These names usually have the form of a prefix (such as \"HD\") followed by a number.\n",
    "\n",
    "### a. What are the 5 most common prefixes? If a prefix is an abbreviation, write the full name. Provide a reference for each common prefix, if you can."
   ]
  },
  {
   "cell_type": "code",
   "execution_count": 104,
   "metadata": {
    "collapsed": false
   },
   "outputs": [
    {
     "data": {
      "text/plain": [
       "0    False\n",
       "1    False\n",
       "Name: pl_hostname, dtype: bool"
      ]
     },
     "execution_count": 104,
     "metadata": {},
     "output_type": "execute_result"
    }
   ],
   "source": [
    "df_RV['pl_hostname'][:][:2]=='HD'"
   ]
  },
  {
   "cell_type": "markdown",
   "metadata": {},
   "source": [
    "Divide the planets into three groups: those discovered before 2000, between 2000 and 2009, since 2009."
   ]
  },
  {
   "cell_type": "code",
   "execution_count": 68,
   "metadata": {
    "collapsed": false
   },
   "outputs": [],
   "source": [
    "### groupA = pre-2000\n",
    "idx1_RV = df_RV['pl_disc'] <2000\n",
    "groupA_RV = df_RV[idx1_RV]\n",
    "\n",
    "idx1_tr= df_transit['pl_disc'] <2000\n",
    "groupA_transit = df_transit[idx1_tr]\n",
    "\n",
    "### groupB = 2000-2008\n",
    "# idx2_RV = df_RV['pl_disc'] == [2000,2008]\n",
    "# groupB_RV = df_RV[idx2_RV]\n",
    "##This does not work because filter is not perfect\n",
    "# idx2_RV = (df_RV['pl_disc'] >= 2000 & (df_RV['pl_disc'] <= 2008))\n",
    "# groupB_RV = df_RV[idx2_RV]\n",
    "groupB_RV = df_RV.query('2000 <= pl_disc <= 2008')\n",
    "# idx2_tr= df_transit['pl_disc'] == [2000,2008]\n",
    "# groupB_transit = df_transit[idx2_tr]\n",
    "##This also does not work because filter is not perfect\n",
    "#idx2_tr = (df_transit['pl_disc'] >= 2000 & (df_transit['pl_disc'] <= 2008))\n",
    "#groupB_transit = df_transit[idx2_tr]\n",
    "groupB_transit = df_transit.query('2000 <= pl_disc <= 2008')\n",
    "\n",
    "### groupC = post-2008 = since 2009\n",
    "idx3_RV = df_RV['pl_disc'] >2008\n",
    "groupC_RV = df_RV[idx3_RV]\n",
    "\n",
    "idx3_tr= df_transit['pl_disc'] >2008\n",
    "groupC_transit = df_transit[idx3_tr]"
   ]
  },
  {
   "cell_type": "code",
   "execution_count": 73,
   "metadata": {
    "collapsed": false
   },
   "outputs": [
    {
     "data": {
      "text/html": [
       "<div>\n",
       "<table border=\"1\" class=\"dataframe\">\n",
       "  <thead>\n",
       "    <tr style=\"text-align: right;\">\n",
       "      <th></th>\n",
       "      <th>rowid</th>\n",
       "      <th>pl_hostname</th>\n",
       "      <th>pl_letter</th>\n",
       "      <th>pl_discmethod</th>\n",
       "      <th>pl_pnum</th>\n",
       "      <th>pl_orbper</th>\n",
       "      <th>pl_orbpererr1</th>\n",
       "      <th>pl_orbpererr2</th>\n",
       "      <th>pl_orbperlim</th>\n",
       "      <th>pl_orbsmax</th>\n",
       "      <th>...</th>\n",
       "      <th>st_lumblend</th>\n",
       "      <th>st_dens</th>\n",
       "      <th>st_denserr1</th>\n",
       "      <th>st_denserr2</th>\n",
       "      <th>st_denslim</th>\n",
       "      <th>st_metratio</th>\n",
       "      <th>st_age</th>\n",
       "      <th>st_ageerr1</th>\n",
       "      <th>st_ageerr2</th>\n",
       "      <th>st_agelim</th>\n",
       "    </tr>\n",
       "  </thead>\n",
       "  <tbody>\n",
       "    <tr>\n",
       "      <th>1</th>\n",
       "      <td>3391</td>\n",
       "      <td>ups And</td>\n",
       "      <td>b</td>\n",
       "      <td>Radial Velocity</td>\n",
       "      <td>3</td>\n",
       "      <td>4.617033</td>\n",
       "      <td>0.000023</td>\n",
       "      <td>-0.000023</td>\n",
       "      <td>0.0</td>\n",
       "      <td>0.059222</td>\n",
       "      <td>...</td>\n",
       "      <td>0.0</td>\n",
       "      <td>NaN</td>\n",
       "      <td>NaN</td>\n",
       "      <td>NaN</td>\n",
       "      <td>NaN</td>\n",
       "      <td>NaN</td>\n",
       "      <td>5.0</td>\n",
       "      <td>NaN</td>\n",
       "      <td>NaN</td>\n",
       "      <td>0.0</td>\n",
       "    </tr>\n",
       "    <tr>\n",
       "      <th>2</th>\n",
       "      <td>3392</td>\n",
       "      <td>ups And</td>\n",
       "      <td>c</td>\n",
       "      <td>Radial Velocity</td>\n",
       "      <td>3</td>\n",
       "      <td>241.258000</td>\n",
       "      <td>0.064000</td>\n",
       "      <td>-0.064000</td>\n",
       "      <td>0.0</td>\n",
       "      <td>0.827774</td>\n",
       "      <td>...</td>\n",
       "      <td>0.0</td>\n",
       "      <td>NaN</td>\n",
       "      <td>NaN</td>\n",
       "      <td>NaN</td>\n",
       "      <td>NaN</td>\n",
       "      <td>NaN</td>\n",
       "      <td>5.0</td>\n",
       "      <td>NaN</td>\n",
       "      <td>NaN</td>\n",
       "      <td>0.0</td>\n",
       "    </tr>\n",
       "    <tr>\n",
       "      <th>3</th>\n",
       "      <td>3393</td>\n",
       "      <td>ups And</td>\n",
       "      <td>d</td>\n",
       "      <td>Radial Velocity</td>\n",
       "      <td>3</td>\n",
       "      <td>1276.460000</td>\n",
       "      <td>0.570000</td>\n",
       "      <td>-0.570000</td>\n",
       "      <td>0.0</td>\n",
       "      <td>2.513290</td>\n",
       "      <td>...</td>\n",
       "      <td>0.0</td>\n",
       "      <td>NaN</td>\n",
       "      <td>NaN</td>\n",
       "      <td>NaN</td>\n",
       "      <td>NaN</td>\n",
       "      <td>NaN</td>\n",
       "      <td>5.0</td>\n",
       "      <td>NaN</td>\n",
       "      <td>NaN</td>\n",
       "      <td>0.0</td>\n",
       "    </tr>\n",
       "    <tr>\n",
       "      <th>5</th>\n",
       "      <td>3389</td>\n",
       "      <td>tau Boo</td>\n",
       "      <td>b</td>\n",
       "      <td>Radial Velocity</td>\n",
       "      <td>1</td>\n",
       "      <td>3.312457</td>\n",
       "      <td>0.000007</td>\n",
       "      <td>-0.000007</td>\n",
       "      <td>0.0</td>\n",
       "      <td>0.049000</td>\n",
       "      <td>...</td>\n",
       "      <td>0.0</td>\n",
       "      <td>NaN</td>\n",
       "      <td>NaN</td>\n",
       "      <td>NaN</td>\n",
       "      <td>NaN</td>\n",
       "      <td>[Fe/H]</td>\n",
       "      <td>NaN</td>\n",
       "      <td>NaN</td>\n",
       "      <td>NaN</td>\n",
       "      <td>0.0</td>\n",
       "    </tr>\n",
       "    <tr>\n",
       "      <th>2706</th>\n",
       "      <td>688</td>\n",
       "      <td>HR 810</td>\n",
       "      <td>b</td>\n",
       "      <td>Radial Velocity</td>\n",
       "      <td>1</td>\n",
       "      <td>312.000000</td>\n",
       "      <td>5.000000</td>\n",
       "      <td>-5.000000</td>\n",
       "      <td>0.0</td>\n",
       "      <td>0.910000</td>\n",
       "      <td>...</td>\n",
       "      <td>NaN</td>\n",
       "      <td>NaN</td>\n",
       "      <td>NaN</td>\n",
       "      <td>NaN</td>\n",
       "      <td>NaN</td>\n",
       "      <td>NaN</td>\n",
       "      <td>NaN</td>\n",
       "      <td>NaN</td>\n",
       "      <td>NaN</td>\n",
       "      <td>NaN</td>\n",
       "    </tr>\n",
       "  </tbody>\n",
       "</table>\n",
       "<p>5 rows × 94 columns</p>\n",
       "</div>"
      ],
      "text/plain": [
       "      rowid pl_hostname pl_letter    pl_discmethod  pl_pnum    pl_orbper  \\\n",
       "1      3391     ups And         b  Radial Velocity        3     4.617033   \n",
       "2      3392     ups And         c  Radial Velocity        3   241.258000   \n",
       "3      3393     ups And         d  Radial Velocity        3  1276.460000   \n",
       "5      3389     tau Boo         b  Radial Velocity        1     3.312457   \n",
       "2706    688      HR 810         b  Radial Velocity        1   312.000000   \n",
       "\n",
       "      pl_orbpererr1  pl_orbpererr2  pl_orbperlim  pl_orbsmax    ...      \\\n",
       "1          0.000023      -0.000023           0.0    0.059222    ...       \n",
       "2          0.064000      -0.064000           0.0    0.827774    ...       \n",
       "3          0.570000      -0.570000           0.0    2.513290    ...       \n",
       "5          0.000007      -0.000007           0.0    0.049000    ...       \n",
       "2706       5.000000      -5.000000           0.0    0.910000    ...       \n",
       "\n",
       "      st_lumblend  st_dens  st_denserr1  st_denserr2  st_denslim  st_metratio  \\\n",
       "1             0.0      NaN          NaN          NaN         NaN          NaN   \n",
       "2             0.0      NaN          NaN          NaN         NaN          NaN   \n",
       "3             0.0      NaN          NaN          NaN         NaN          NaN   \n",
       "5             0.0      NaN          NaN          NaN         NaN       [Fe/H]   \n",
       "2706          NaN      NaN          NaN          NaN         NaN          NaN   \n",
       "\n",
       "      st_age  st_ageerr1  st_ageerr2  st_agelim  \n",
       "1        5.0         NaN         NaN        0.0  \n",
       "2        5.0         NaN         NaN        0.0  \n",
       "3        5.0         NaN         NaN        0.0  \n",
       "5        NaN         NaN         NaN        0.0  \n",
       "2706     NaN         NaN         NaN        NaN  \n",
       "\n",
       "[5 rows x 94 columns]"
      ]
     },
     "execution_count": 73,
     "metadata": {},
     "output_type": "execute_result"
    }
   ],
   "source": [
    "groupA_RV.head()"
   ]
  },
  {
   "cell_type": "code",
   "execution_count": 33,
   "metadata": {
    "collapsed": false
   },
   "outputs": [
    {
     "data": {
      "text/html": [
       "<div>\n",
       "<table border=\"1\" class=\"dataframe\">\n",
       "  <thead>\n",
       "    <tr style=\"text-align: right;\">\n",
       "      <th></th>\n",
       "      <th>rowid</th>\n",
       "      <th>pl_hostname</th>\n",
       "      <th>pl_letter</th>\n",
       "      <th>pl_discmethod</th>\n",
       "      <th>pl_pnum</th>\n",
       "      <th>pl_orbper</th>\n",
       "      <th>pl_orbpererr1</th>\n",
       "      <th>pl_orbpererr2</th>\n",
       "      <th>pl_orbperlim</th>\n",
       "      <th>pl_orbsmax</th>\n",
       "      <th>...</th>\n",
       "      <th>st_lumblend</th>\n",
       "      <th>st_dens</th>\n",
       "      <th>st_denserr1</th>\n",
       "      <th>st_denserr2</th>\n",
       "      <th>st_denslim</th>\n",
       "      <th>st_metratio</th>\n",
       "      <th>st_age</th>\n",
       "      <th>st_ageerr1</th>\n",
       "      <th>st_ageerr2</th>\n",
       "      <th>st_agelim</th>\n",
       "    </tr>\n",
       "  </thead>\n",
       "  <tbody>\n",
       "  </tbody>\n",
       "</table>\n",
       "<p>0 rows × 94 columns</p>\n",
       "</div>"
      ],
      "text/plain": [
       "Empty DataFrame\n",
       "Columns: [rowid, pl_hostname, pl_letter, pl_discmethod, pl_pnum, pl_orbper, pl_orbpererr1, pl_orbpererr2, pl_orbperlim, pl_orbsmax, pl_orbsmaxerr1, pl_orbsmaxerr2, pl_orbsmaxlim, pl_orbeccen, pl_orbeccenerr1, pl_orbeccenerr2, pl_orbeccenlim, pl_orbincl, pl_orbinclerr1, pl_orbinclerr2, pl_orbincllim, pl_bmassj, pl_bmassjerr1, pl_bmassjerr2, pl_bmassjlim, pl_bmassprov, pl_radj, pl_radjerr1, pl_radjerr2, pl_radjlim, pl_dens, pl_denserr1, pl_denserr2, pl_denslim, pl_ttvflag, pl_kepflag, pl_k2flag, pl_nnotes, ra_str, ra, dec_str, dec, st_dist, st_disterr1, st_disterr2, st_distlim, st_optmag, st_optmagerr, st_optmaglim, st_optmagblend, st_optband, st_teff, st_tefferr1, st_tefferr2, st_tefflim, st_teffblend, st_mass, st_masserr1, st_masserr2, st_masslim, st_massblend, st_rad, st_raderr1, st_raderr2, st_radlim, st_radblend, rowupdate, pl_disc, hd_name, hip_name, st_sp, st_spstr, st_sperr, st_splim, st_spblend, st_logg, st_loggerr1, st_loggerr2, st_logglim, st_loggblend, st_lum, st_lumerr1, st_lumerr2, st_lumlim, st_lumblend, st_dens, st_denserr1, st_denserr2, st_denslim, st_metratio, st_age, st_ageerr1, st_ageerr2, st_agelim]\n",
       "Index: []\n",
       "\n",
       "[0 rows x 94 columns]"
      ]
     },
     "execution_count": 33,
     "metadata": {},
     "output_type": "execute_result"
    }
   ],
   "source": [
    "groupA_transit.head()"
   ]
  },
  {
   "cell_type": "markdown",
   "metadata": {},
   "source": [
    "There were no transiting planets before 2000. Let's quickly confirm that there are significantly more planets since 2009 than before then."
   ]
  },
  {
   "cell_type": "code",
   "execution_count": 74,
   "metadata": {
    "collapsed": false,
    "scrolled": true
   },
   "outputs": [
    {
     "name": "stdout",
     "output_type": "stream",
     "text": [
      "Number of transiting planets between 2000 and 2008: 44\n",
      "Number of transiting planets since 2009: 2633\n"
     ]
    }
   ],
   "source": [
    "print('Number of transiting planets between 2000 and 2008: {}'.format(len(groupB_transit)))\n",
    "print('Number of transiting planets since 2009: {}'.format(len(groupC_transit)))"
   ]
  },
  {
   "cell_type": "markdown",
   "metadata": {},
   "source": [
    "Let's see the trend in RV and transiting planets in these epochs."
   ]
  },
  {
   "cell_type": "code",
   "execution_count": 86,
   "metadata": {
    "collapsed": false,
    "scrolled": true
   },
   "outputs": [
    {
     "data": {
      "text/html": [
       "<div>\n",
       "<table border=\"1\" class=\"dataframe\">\n",
       "  <thead>\n",
       "    <tr style=\"text-align: right;\">\n",
       "      <th></th>\n",
       "      <th>RV</th>\n",
       "      <th>Transit</th>\n",
       "    </tr>\n",
       "  </thead>\n",
       "  <tbody>\n",
       "    <tr>\n",
       "      <th>&lt;2000</th>\n",
       "      <td>27</td>\n",
       "      <td>0</td>\n",
       "    </tr>\n",
       "    <tr>\n",
       "      <th>2000-8</th>\n",
       "      <td>225</td>\n",
       "      <td>44</td>\n",
       "    </tr>\n",
       "    <tr>\n",
       "      <th>&gt;2008</th>\n",
       "      <td>345</td>\n",
       "      <td>2633</td>\n",
       "    </tr>\n",
       "  </tbody>\n",
       "</table>\n",
       "</div>"
      ],
      "text/plain": [
       "         RV  Transit\n",
       "<2000    27        0\n",
       "2000-8  225       44\n",
       ">2008   345     2633"
      ]
     },
     "execution_count": 86,
     "metadata": {},
     "output_type": "execute_result"
    }
   ],
   "source": [
    "d = {'Transit' : pd.Series([len(groupA_transit), len(groupB_transit), len(groupC_transit)], index=['<2000', '2000-8', '>2008']),\n",
    "     'RV' : pd.Series([len(groupA_RV), len(groupB_RV), len(groupC_RV)], index=['<2000', '2000-8', '>2008'])}\n",
    "table = pd.DataFrame(d)    \n",
    "table"
   ]
  },
  {
   "cell_type": "code",
   "execution_count": 93,
   "metadata": {
    "collapsed": false,
    "scrolled": false
   },
   "outputs": [
    {
     "data": {
      "text/plain": [
       "<matplotlib.text.Text at 0x7fbd81ee5470>"
      ]
     },
     "execution_count": 93,
     "metadata": {},
     "output_type": "execute_result"
    },
    {
     "data": {
      "image/png": "[encoded data removed]",
      "text/plain": [
       "<matplotlib.figure.Figure at 0x7fbd81ec6be0>"
      ]
     },
     "metadata": {},
     "output_type": "display_data"
    }
   ],
   "source": [
    "table.plot.bar()\n",
    "plt.title('Number of Discovered Planets');\n",
    "plt.xlabel('Year of Discovery')\n",
    "plt.xticks(rotation=0)\n",
    "plt.ylabel('Count')"
   ]
  },
  {
   "cell_type": "code",
   "execution_count": 142,
   "metadata": {
    "collapsed": false
   },
   "outputs": [
    {
     "data": {
      "text/plain": [
       "['2000-8', '<2000', '>2009']"
      ]
     },
     "execution_count": 142,
     "metadata": {},
     "output_type": "execute_result"
    }
   ],
   "source": [
    "DF1 = pd.DataFrame({'<2000': groupA_transit['st_teff'], \n",
    "                   '2000-8': groupB_transit['st_teff'], \n",
    "                   '>2009': groupC_transit['st_teff']})\n",
    "DF2 = pd.DataFrame({'<2000': groupA_RV['st_teff'], \n",
    "                   '2000-8': groupB_RV['st_teff'], \n",
    "                   '>2009': groupC_RV['st_teff']})\n",
    "\n",
    "\n",
    "DF1.columns.tolist()"
   ]
  },
  {
   "cell_type": "code",
   "execution_count": 146,
   "metadata": {
    "collapsed": false
   },
   "outputs": [],
   "source": [
    "DF1 = DF1[['>2009', '2000-8', '<2000']]\n",
    "DF2 = DF2[['>2009', '2000-8', '<2000']]"
   ]
  },
  {
   "cell_type": "code",
   "execution_count": 147,
   "metadata": {
    "collapsed": false
   },
   "outputs": [
    {
     "data": {
      "text/plain": [
       "<matplotlib.text.Text at 0x7fbd68790e48>"
      ]
     },
     "execution_count": 147,
     "metadata": {},
     "output_type": "execute_result"
    },
    {
     "data": {
      "text/plain": [
       "<matplotlib.figure.Figure at 0x7fbd689173c8>"
      ]
     },
     "metadata": {},
     "output_type": "display_data"
    },
    {
     "data": {
      "image/png": "[encoded data removed]",
      "text/plain": [
       "<matplotlib.figure.Figure at 0x7fbd688b2400>"
      ]
     },
     "metadata": {},
     "output_type": "display_data"
    },
    {
     "data": {
      "image/png": "[encoded data removed]",
      "text/plain": [
       "<matplotlib.figure.Figure at 0x7fbd68917e10>"
      ]
     },
     "metadata": {},
     "output_type": "display_data"
    }
   ],
   "source": [
    "ax = plt.figure()\n",
    "DF1.plot.hist(stacked=True, bins=20)\n",
    "plt.title('Transiting Planets')\n",
    "plt.xlabel('Stellar Teff (K)')\n",
    "DF2.plot.hist(stacked=True, bins=20)\n",
    "plt.title('RV Planets')\n",
    "plt.xlabel('Stellar Teff (K)')"
   ]
  },
  {
   "cell_type": "code",
   "execution_count": 111,
   "metadata": {
    "collapsed": false
   },
   "outputs": [
    {
     "data": {
      "image/png": "[encoded data removed]",
      "text/plain": [
       "<matplotlib.figure.Figure at 0x7fbd696c1b00>"
      ]
     },
     "metadata": {},
     "output_type": "display_data"
    }
   ],
   "source": [
    "import seaborn as sb\n",
    "with sb.axes_style('whitegrid'):\n",
    "    fig, axs = plt.subplots(1,2,figsize=(15,3))\n",
    "    axs[0].hist(groupA_transit['st_teff'].dropna(), bins=20)\n",
    "    axs[0].hist(groupB_transit['st_teff'].dropna(), bins=20)\n",
    "    axs[0].hist(groupC_transit['st_teff'].dropna(), bins=20)\n",
    "    #axs[0].hist(df_RV['st_teff'].dropna(), bins=20)\n",
    "    #axs[0].set_xlabel('Teff [K]')\n",
    "    #axs[0].set_ylabel('Count')\n",
    "    axs[1].hist(df_transit['st_rad'].dropna(), bins=20)\n",
    "    axs[1].hist(df_RV['st_rad'].dropna(), bins=30)\n",
    "    axs[1].set_xlabel('Radius [Rsun]')\n",
    "    axs[1].set_xlim([0,30])\n",
    "    plt.show()"
   ]
  },
  {
   "cell_type": "markdown",
   "metadata": {},
   "source": [
    "### b. How does the mix of these most common names change from one time period to the next?\n",
    "\n",
    "Be specific: connect the typical properties of stars in particular catalogs to the methods used to discover planets."
   ]
  },
  {
   "cell_type": "raw",
   "metadata": {},
   "source": [
    "# COLUMN st_dist:        Distance [pc]\n",
    "# COLUMN st_disterr1:    Distance Upper Unc. [pc]\n",
    "# COLUMN st_disterr2:    Distance Lower Unc. [pc]\n",
    "# COLUMN st_distlim:     Distance Limit Flag\n",
    "# COLUMN st_optmag:      Optical Magnitude [mag]\n",
    "# COLUMN st_optmagerr:   Optical Magnitude Unc. [mag]\n",
    "# COLUMN st_optmaglim:   Optical Magnitude Limit Flag\n",
    "# COLUMN st_optmagblend: Optical Magnitude Blend Flag\n",
    "# COLUMN st_optband:     Optical Magnitude Band\n",
    "# COLUMN st_teff:        Effective Temperature [K]\n",
    "# COLUMN st_tefferr1:    Effective Temperature Upper Unc. [K]\n",
    "# COLUMN st_tefferr2:    Effective Temperature Lower Unc. [K]\n",
    "# COLUMN st_tefflim:     Effective Temperature Limit Flag\n",
    "# COLUMN st_teffblend:   Effective Temperature Blend Flag\n",
    "# COLUMN st_mass:        Stellar Mass [Solar mass]\n",
    "# COLUMN st_masserr1:    Stellar Mass Upper Unc. [Solar mass]\n",
    "# COLUMN st_masserr2:    Stellar Mass Lower Unc. [Solar mass]\n",
    "# COLUMN st_masslim:     Stellar Mass Limit Flag\n",
    "# COLUMN st_massblend:   Stellar Mass Blend Flag\n",
    "# COLUMN st_rad:         Stellar Radius [Solar radii]\n",
    "# COLUMN st_raderr1:     Stellar Radius Upper Unc. [Solar radii]\n",
    "# COLUMN st_raderr2:     Stellar Radius Lower Unc. [Solar radii]\n",
    "# COLUMN st_radlim:      Stellar Radius Limit Flag\n",
    "# COLUMN st_radblend:    Stellar Radius Blend Flag\n",
    "# COLUMN st_sp:          Spectral Type\n",
    "# COLUMN st_spstr:       Spectral Type\n",
    "# COLUMN st_sperr:       Spectral Type Unc.\n",
    "# COLUMN st_splim:       Spectral Type Limit Flag\n",
    "# COLUMN st_spblend:     Spectral Type Blend Flag\n",
    "# COLUMN st_logg:        Stellar Surface Gravity [log10(cm/s**2)]\n",
    "# COLUMN st_loggerr1:    Stellar Surface Gravity Upper Unc. [log10(cm/s**2)]\n",
    "# COLUMN st_loggerr2:    Stellar Surface Gravity Lower Unc. [log10(cm/s**2)]\n",
    "# COLUMN st_logglim:     Stellar Surface Gravity Limit Flag\n",
    "# COLUMN st_loggblend:   Stellar Surface Gravity Blend Flag\n",
    "# COLUMN st_lum:         Stellar Luminosity [log(Solar)]\n",
    "# COLUMN st_lumerr1:     Stellar Luminosity Upper Unc. [log(Solar)]\n",
    "# COLUMN st_lumerr2:     Stellar Luminosity Lower Unc. [log(Solar)]\n",
    "# COLUMN st_lumlim:      Stellar Luminosity Limit Flag\n",
    "# COLUMN st_lumblend:    Stellar Luminosity Blend Flag\n",
    "# COLUMN st_dens:        Stellar Density [g/cm**3]\n",
    "# COLUMN st_denserr1:    Stellar Density Upper Unc. [g/cm**3]\n",
    "# COLUMN st_denserr2:    Stellar Density Lower Unc. [g/cm**3]\n",
    "# COLUMN st_denslim:     Stellar Density Limit Flag\n",
    "# COLUMN st_metratio:    Metallicity Ratio\n",
    "# COLUMN st_age:         Stellar Age [Gyr]\n",
    "# COLUMN st_ageerr1:     Stellar Age Upper Unc. [Gyr]\n",
    "# COLUMN st_ageerr2:     Stellar Age Lower Unc. [Gyr]\n",
    "# COLUMN st_agelim:      Stellar Age Limit Flag"
   ]
  },
  {
   "cell_type": "code",
   "execution_count": 334,
   "metadata": {
    "collapsed": false,
    "scrolled": false
   },
   "outputs": [
    {
     "data": {
      "image/png": "[encoded data removed]",
      "text/plain": [
       "<matplotlib.figure.Figure at 0x7f76c322d160>"
      ]
     },
     "metadata": {},
     "output_type": "display_data"
    }
   ],
   "source": [
    "import seaborn as sb\n",
    "with sb.axes_style('whitegrid'):\n",
    "    fig, axs = plt.subplots(1,2,figsize=(15,3))\n",
    "    axs[0].hist(df_transit['st_teff'].dropna(), bins=20)\n",
    "    axs[0].hist(df_RV['st_teff'].dropna(), bins=20)\n",
    "    axs[0].set_xlabel('Teff [K]')\n",
    "    axs[0].set_ylabel('Count')\n",
    "    axs[1].hist(df_transit['st_rad'].dropna(), bins=20)\n",
    "    axs[1].hist(df_RV['st_rad'].dropna(), bins=30)\n",
    "    axs[1].set_xlabel('Radius [Rsun]')\n",
    "    axs[1].set_xlim([0,30])\n",
    "    plt.show()"
   ]
  },
  {
   "cell_type": "code",
   "execution_count": 351,
   "metadata": {
    "collapsed": false
   },
   "outputs": [
    {
     "data": {
      "text/plain": [
       "6.5499999999999998"
      ]
     },
     "execution_count": 351,
     "metadata": {},
     "output_type": "execute_result"
    }
   ],
   "source": [
    "df_RV['st_sp'].max()"
   ]
  },
  {
   "cell_type": "code",
   "execution_count": 357,
   "metadata": {
    "collapsed": false
   },
   "outputs": [
    {
     "data": {
      "image/png": "[encoded data removed]",
      "text/plain": [
       "<matplotlib.figure.Figure at 0x7f76ab4cc198>"
      ]
     },
     "metadata": {},
     "output_type": "display_data"
    }
   ],
   "source": [
    "import seaborn as sb\n",
    "\n",
    "sp_type=['O','B','A','F','G','K','M']\n",
    "\n",
    "with sb.axes_style('whitegrid'):\n",
    "    fig, axs = plt.subplots(1,2,figsize=(15,3))\n",
    "    axs[0].hist(df_transit['st_age'].dropna(), bins=20)\n",
    "    axs[0].hist(df_RV['st_age'].dropna(), bins=20)\n",
    "    axs[0].set_xlabel('Stellar age (Gyr)')\n",
    "    axs[0].set_ylabel('Count')\n",
    "    axs[0].set_xlim([0,13])\n",
    "    axs[1].hist(df_transit['st_sp'].dropna(), bins=20)\n",
    "    axs[1].hist(df_RV['st_sp'].dropna(), bins=30)\n",
    "    axs[1].set_xlabel('Spectral Type')\n",
    "    axs[1].set_xlim([0,7])\n",
    "    axs[1].set_xticks([0,7],sp_type)\n",
    "    plt.show()"
   ]
  },
  {
   "cell_type": "code",
   "execution_count": null,
   "metadata": {
    "collapsed": true
   },
   "outputs": [],
   "source": [
    "#http://exoplanetarchive.ipac.caltech.edu/exoplanetplots/\n",
    "\n"
   ]
  },
  {
   "cell_type": "markdown",
   "metadata": {},
   "source": [
    "### c. Why does the mix of names change? Be specific: connect the typical properties of stars in particular catalogs to the methods used to discover planets."
   ]
  },
  {
   "cell_type": "code",
   "execution_count": 212,
   "metadata": {
    "collapsed": false
   },
   "outputs": [
    {
     "data": {
      "text/html": [
       "<div>\n",
       "<table border=\"1\" class=\"dataframe\">\n",
       "  <thead>\n",
       "    <tr style=\"text-align: right;\">\n",
       "      <th></th>\n",
       "      <th>rowid</th>\n",
       "      <th>pl_hostname</th>\n",
       "      <th>pl_letter</th>\n",
       "      <th>pl_discmethod</th>\n",
       "      <th>pl_pnum</th>\n",
       "      <th>pl_orbper</th>\n",
       "      <th>pl_orbpererr1</th>\n",
       "      <th>pl_orbpererr2</th>\n",
       "      <th>pl_orbperlim</th>\n",
       "      <th>pl_orbsmax</th>\n",
       "      <th>...</th>\n",
       "      <th>st_masserr2</th>\n",
       "      <th>st_masslim</th>\n",
       "      <th>st_massblend</th>\n",
       "      <th>st_rad</th>\n",
       "      <th>st_raderr1</th>\n",
       "      <th>st_raderr2</th>\n",
       "      <th>st_radlim</th>\n",
       "      <th>st_radblend</th>\n",
       "      <th>rowupdate</th>\n",
       "      <th>pl_disc</th>\n",
       "    </tr>\n",
       "  </thead>\n",
       "  <tbody>\n",
       "    <tr>\n",
       "      <th>0</th>\n",
       "      <td>3393</td>\n",
       "      <td>ups And</td>\n",
       "      <td>b</td>\n",
       "      <td>Radial Velocity</td>\n",
       "      <td>3</td>\n",
       "      <td>4.617033</td>\n",
       "      <td>0.000023</td>\n",
       "      <td>-0.000023</td>\n",
       "      <td>0</td>\n",
       "      <td>0.059222</td>\n",
       "      <td>...</td>\n",
       "      <td>NaN</td>\n",
       "      <td>0.0</td>\n",
       "      <td>0.0</td>\n",
       "      <td>1.56</td>\n",
       "      <td>NaN</td>\n",
       "      <td>NaN</td>\n",
       "      <td>0.0</td>\n",
       "      <td>0.0</td>\n",
       "      <td>2014-05-14</td>\n",
       "      <td>1996</td>\n",
       "    </tr>\n",
       "    <tr>\n",
       "      <th>1</th>\n",
       "      <td>3394</td>\n",
       "      <td>ups And</td>\n",
       "      <td>c</td>\n",
       "      <td>Radial Velocity</td>\n",
       "      <td>3</td>\n",
       "      <td>241.258000</td>\n",
       "      <td>0.064000</td>\n",
       "      <td>-0.064000</td>\n",
       "      <td>0</td>\n",
       "      <td>0.827774</td>\n",
       "      <td>...</td>\n",
       "      <td>NaN</td>\n",
       "      <td>0.0</td>\n",
       "      <td>0.0</td>\n",
       "      <td>1.56</td>\n",
       "      <td>NaN</td>\n",
       "      <td>NaN</td>\n",
       "      <td>0.0</td>\n",
       "      <td>0.0</td>\n",
       "      <td>2014-05-14</td>\n",
       "      <td>1999</td>\n",
       "    </tr>\n",
       "    <tr>\n",
       "      <th>2</th>\n",
       "      <td>3395</td>\n",
       "      <td>ups And</td>\n",
       "      <td>d</td>\n",
       "      <td>Radial Velocity</td>\n",
       "      <td>3</td>\n",
       "      <td>1276.460000</td>\n",
       "      <td>0.570000</td>\n",
       "      <td>-0.570000</td>\n",
       "      <td>0</td>\n",
       "      <td>2.513290</td>\n",
       "      <td>...</td>\n",
       "      <td>NaN</td>\n",
       "      <td>0.0</td>\n",
       "      <td>0.0</td>\n",
       "      <td>1.56</td>\n",
       "      <td>NaN</td>\n",
       "      <td>NaN</td>\n",
       "      <td>0.0</td>\n",
       "      <td>0.0</td>\n",
       "      <td>2014-05-14</td>\n",
       "      <td>1999</td>\n",
       "    </tr>\n",
       "    <tr>\n",
       "      <th>3</th>\n",
       "      <td>3391</td>\n",
       "      <td>tau Boo</td>\n",
       "      <td>b</td>\n",
       "      <td>Radial Velocity</td>\n",
       "      <td>1</td>\n",
       "      <td>3.312457</td>\n",
       "      <td>0.000007</td>\n",
       "      <td>-0.000007</td>\n",
       "      <td>0</td>\n",
       "      <td>0.049000</td>\n",
       "      <td>...</td>\n",
       "      <td>-0.05</td>\n",
       "      <td>0.0</td>\n",
       "      <td>0.0</td>\n",
       "      <td>1.46</td>\n",
       "      <td>0.05</td>\n",
       "      <td>-0.05</td>\n",
       "      <td>0.0</td>\n",
       "      <td>0.0</td>\n",
       "      <td>2015-04-16</td>\n",
       "      <td>1996</td>\n",
       "    </tr>\n",
       "    <tr>\n",
       "      <th>4</th>\n",
       "      <td>3210</td>\n",
       "      <td>PSR B1257+12</td>\n",
       "      <td>c</td>\n",
       "      <td>Pulsar Timing</td>\n",
       "      <td>3</td>\n",
       "      <td>66.541900</td>\n",
       "      <td>0.000100</td>\n",
       "      <td>-0.000100</td>\n",
       "      <td>0</td>\n",
       "      <td>0.360000</td>\n",
       "      <td>...</td>\n",
       "      <td>NaN</td>\n",
       "      <td>NaN</td>\n",
       "      <td>0.0</td>\n",
       "      <td>NaN</td>\n",
       "      <td>NaN</td>\n",
       "      <td>NaN</td>\n",
       "      <td>NaN</td>\n",
       "      <td>0.0</td>\n",
       "      <td>2015-04-30</td>\n",
       "      <td>1992</td>\n",
       "    </tr>\n",
       "  </tbody>\n",
       "</table>\n",
       "<p>5 rows × 68 columns</p>\n",
       "</div>"
      ],
      "text/plain": [
       "   rowid   pl_hostname pl_letter    pl_discmethod  pl_pnum    pl_orbper  \\\n",
       "0   3393       ups And         b  Radial Velocity        3     4.617033   \n",
       "1   3394       ups And         c  Radial Velocity        3   241.258000   \n",
       "2   3395       ups And         d  Radial Velocity        3  1276.460000   \n",
       "3   3391       tau Boo         b  Radial Velocity        1     3.312457   \n",
       "4   3210  PSR B1257+12         c    Pulsar Timing        3    66.541900   \n",
       "\n",
       "   pl_orbpererr1  pl_orbpererr2  pl_orbperlim  pl_orbsmax   ...     \\\n",
       "0       0.000023      -0.000023             0    0.059222   ...      \n",
       "1       0.064000      -0.064000             0    0.827774   ...      \n",
       "2       0.570000      -0.570000             0    2.513290   ...      \n",
       "3       0.000007      -0.000007             0    0.049000   ...      \n",
       "4       0.000100      -0.000100             0    0.360000   ...      \n",
       "\n",
       "   st_masserr2  st_masslim  st_massblend  st_rad  st_raderr1  st_raderr2  \\\n",
       "0          NaN         0.0           0.0    1.56         NaN         NaN   \n",
       "1          NaN         0.0           0.0    1.56         NaN         NaN   \n",
       "2          NaN         0.0           0.0    1.56         NaN         NaN   \n",
       "3        -0.05         0.0           0.0    1.46        0.05       -0.05   \n",
       "4          NaN         NaN           0.0     NaN         NaN         NaN   \n",
       "\n",
       "   st_radlim  st_radblend   rowupdate  pl_disc  \n",
       "0        0.0          0.0  2014-05-14     1996  \n",
       "1        0.0          0.0  2014-05-14     1999  \n",
       "2        0.0          0.0  2014-05-14     1999  \n",
       "3        0.0          0.0  2015-04-16     1996  \n",
       "4        NaN          0.0  2015-04-30     1992  \n",
       "\n",
       "[5 rows x 68 columns]"
      ]
     },
     "execution_count": 212,
     "metadata": {},
     "output_type": "execute_result"
    }
   ],
   "source": [
    "#Make a mass vs. semi-major axis plot of pre-2000, 2000-8, and post-2008 planets\n",
    "\n",
    "fname1 = 'planets_pre2000.csv'\n",
    "fname2 = 'planets_2000-8.csv'\n",
    "fname3 = 'planets_post2008.csv'\n",
    "\n",
    "import pandas as pd\n",
    "df_a = pd.read_csv(fname1,delimiter=',')\n",
    "df_a.head()"
   ]
  },
  {
   "cell_type": "code",
   "execution_count": 140,
   "metadata": {
    "collapsed": false
   },
   "outputs": [
    {
     "data": {
      "text/html": [
       "<div>\n",
       "<table border=\"1\" class=\"dataframe\">\n",
       "  <thead>\n",
       "    <tr style=\"text-align: right;\">\n",
       "      <th></th>\n",
       "      <th>rowid</th>\n",
       "      <th>pl_hostname</th>\n",
       "      <th>pl_letter</th>\n",
       "      <th>pl_discmethod</th>\n",
       "      <th>pl_pnum</th>\n",
       "      <th>pl_orbper</th>\n",
       "      <th>pl_orbpererr1</th>\n",
       "      <th>pl_orbpererr2</th>\n",
       "      <th>pl_orbperlim</th>\n",
       "      <th>pl_orbsmax</th>\n",
       "      <th>...</th>\n",
       "      <th>st_masserr2</th>\n",
       "      <th>st_masslim</th>\n",
       "      <th>st_massblend</th>\n",
       "      <th>st_rad</th>\n",
       "      <th>st_raderr1</th>\n",
       "      <th>st_raderr2</th>\n",
       "      <th>st_radlim</th>\n",
       "      <th>st_radblend</th>\n",
       "      <th>rowupdate</th>\n",
       "      <th>pl_disc</th>\n",
       "    </tr>\n",
       "  </thead>\n",
       "  <tbody>\n",
       "    <tr>\n",
       "      <th>0</th>\n",
       "      <td>3396</td>\n",
       "      <td>xi Aql</td>\n",
       "      <td>b</td>\n",
       "      <td>Radial Velocity</td>\n",
       "      <td>1</td>\n",
       "      <td>136.75</td>\n",
       "      <td>0.25</td>\n",
       "      <td>-0.25</td>\n",
       "      <td>0.0</td>\n",
       "      <td>0.68</td>\n",
       "      <td>...</td>\n",
       "      <td>NaN</td>\n",
       "      <td>0.0</td>\n",
       "      <td>0.0</td>\n",
       "      <td>12.00</td>\n",
       "      <td>NaN</td>\n",
       "      <td>NaN</td>\n",
       "      <td>0.0</td>\n",
       "      <td>0.0</td>\n",
       "      <td>2014-05-14</td>\n",
       "      <td>2007</td>\n",
       "    </tr>\n",
       "    <tr>\n",
       "      <th>1</th>\n",
       "      <td>3383</td>\n",
       "      <td>kap CrB</td>\n",
       "      <td>b</td>\n",
       "      <td>Radial Velocity</td>\n",
       "      <td>1</td>\n",
       "      <td>1261.94</td>\n",
       "      <td>28.91</td>\n",
       "      <td>-23.97</td>\n",
       "      <td>0.0</td>\n",
       "      <td>2.80</td>\n",
       "      <td>...</td>\n",
       "      <td>-0.04</td>\n",
       "      <td>0.0</td>\n",
       "      <td>0.0</td>\n",
       "      <td>5.06</td>\n",
       "      <td>0.04</td>\n",
       "      <td>-0.04</td>\n",
       "      <td>0.0</td>\n",
       "      <td>0.0</td>\n",
       "      <td>2015-10-15</td>\n",
       "      <td>2007</td>\n",
       "    </tr>\n",
       "    <tr>\n",
       "      <th>2</th>\n",
       "      <td>3381</td>\n",
       "      <td>gam Cep</td>\n",
       "      <td>b</td>\n",
       "      <td>Radial Velocity</td>\n",
       "      <td>1</td>\n",
       "      <td>903.30</td>\n",
       "      <td>1.50</td>\n",
       "      <td>-1.50</td>\n",
       "      <td>0.0</td>\n",
       "      <td>2.05</td>\n",
       "      <td>...</td>\n",
       "      <td>-0.12</td>\n",
       "      <td>0.0</td>\n",
       "      <td>0.0</td>\n",
       "      <td>4.90</td>\n",
       "      <td>NaN</td>\n",
       "      <td>NaN</td>\n",
       "      <td>0.0</td>\n",
       "      <td>0.0</td>\n",
       "      <td>2014-08-27</td>\n",
       "      <td>2003</td>\n",
       "    </tr>\n",
       "    <tr>\n",
       "      <th>3</th>\n",
       "      <td>3379</td>\n",
       "      <td>eps Tau</td>\n",
       "      <td>b</td>\n",
       "      <td>Radial Velocity</td>\n",
       "      <td>1</td>\n",
       "      <td>594.90</td>\n",
       "      <td>5.30</td>\n",
       "      <td>-5.30</td>\n",
       "      <td>0.0</td>\n",
       "      <td>1.93</td>\n",
       "      <td>...</td>\n",
       "      <td>NaN</td>\n",
       "      <td>0.0</td>\n",
       "      <td>NaN</td>\n",
       "      <td>13.70</td>\n",
       "      <td>0.60</td>\n",
       "      <td>NaN</td>\n",
       "      <td>0.0</td>\n",
       "      <td>NaN</td>\n",
       "      <td>2014-05-14</td>\n",
       "      <td>2006</td>\n",
       "    </tr>\n",
       "    <tr>\n",
       "      <th>4</th>\n",
       "      <td>3378</td>\n",
       "      <td>eps Eri</td>\n",
       "      <td>b</td>\n",
       "      <td>Radial Velocity</td>\n",
       "      <td>1</td>\n",
       "      <td>2502.00</td>\n",
       "      <td>10.00</td>\n",
       "      <td>-10.00</td>\n",
       "      <td>0.0</td>\n",
       "      <td>3.39</td>\n",
       "      <td>...</td>\n",
       "      <td>-0.05</td>\n",
       "      <td>0.0</td>\n",
       "      <td>0.0</td>\n",
       "      <td>NaN</td>\n",
       "      <td>NaN</td>\n",
       "      <td>NaN</td>\n",
       "      <td>NaN</td>\n",
       "      <td>0.0</td>\n",
       "      <td>2015-09-03</td>\n",
       "      <td>2000</td>\n",
       "    </tr>\n",
       "  </tbody>\n",
       "</table>\n",
       "<p>5 rows × 68 columns</p>\n",
       "</div>"
      ],
      "text/plain": [
       "   rowid pl_hostname pl_letter    pl_discmethod  pl_pnum  pl_orbper  \\\n",
       "0   3396      xi Aql         b  Radial Velocity        1     136.75   \n",
       "1   3383     kap CrB         b  Radial Velocity        1    1261.94   \n",
       "2   3381     gam Cep         b  Radial Velocity        1     903.30   \n",
       "3   3379     eps Tau         b  Radial Velocity        1     594.90   \n",
       "4   3378     eps Eri         b  Radial Velocity        1    2502.00   \n",
       "\n",
       "   pl_orbpererr1  pl_orbpererr2  pl_orbperlim  pl_orbsmax   ...     \\\n",
       "0           0.25          -0.25           0.0        0.68   ...      \n",
       "1          28.91         -23.97           0.0        2.80   ...      \n",
       "2           1.50          -1.50           0.0        2.05   ...      \n",
       "3           5.30          -5.30           0.0        1.93   ...      \n",
       "4          10.00         -10.00           0.0        3.39   ...      \n",
       "\n",
       "   st_masserr2  st_masslim  st_massblend  st_rad  st_raderr1  st_raderr2  \\\n",
       "0          NaN         0.0           0.0   12.00         NaN         NaN   \n",
       "1        -0.04         0.0           0.0    5.06        0.04       -0.04   \n",
       "2        -0.12         0.0           0.0    4.90         NaN         NaN   \n",
       "3          NaN         0.0           NaN   13.70        0.60         NaN   \n",
       "4        -0.05         0.0           0.0     NaN         NaN         NaN   \n",
       "\n",
       "   st_radlim  st_radblend   rowupdate  pl_disc  \n",
       "0        0.0          0.0  2014-05-14     2007  \n",
       "1        0.0          0.0  2015-10-15     2007  \n",
       "2        0.0          0.0  2014-08-27     2003  \n",
       "3        0.0          NaN  2014-05-14     2006  \n",
       "4        NaN          0.0  2015-09-03     2000  \n",
       "\n",
       "[5 rows x 68 columns]"
      ]
     },
     "execution_count": 140,
     "metadata": {},
     "output_type": "execute_result"
    }
   ],
   "source": [
    "df_b = pd.read_csv(fname2,delimiter=',')\n",
    "df_b.head()"
   ]
  },
  {
   "cell_type": "code",
   "execution_count": 227,
   "metadata": {
    "collapsed": false
   },
   "outputs": [],
   "source": [
    "#planets discovered pre-2000\n",
    "idx1 = df_a['pl_discmethod'] == 'Transit'\n",
    "dfA_tr = df_a[idx1]\n",
    "\n",
    "#no transit before 2000\n",
    "\n",
    "idx2 = df_a['pl_discmethod'] == 'Radial Velocity'\n",
    "dfA_RV = df_a[idx2]\n",
    "\n",
    "#dfA_RV.head()\n",
    "\n",
    "dfA_RV_set = pd.DataFrame(dfA_RV['pl_orbsmax'].dropna())\n",
    "dfA_RV_set['M'] = dfA_RV['pl_bmassj'].dropna()\n",
    "dfA_RV_set.columns = ['P','M']"
   ]
  },
  {
   "cell_type": "code",
   "execution_count": 231,
   "metadata": {
    "collapsed": false
   },
   "outputs": [],
   "source": [
    "#planets discovered between 2000 and 2008\n",
    "idx1 = df_b['pl_discmethod'] == 'Transit'\n",
    "dfB_tr = df_b[idx1]\n",
    "\n",
    "idx2 = df_b['pl_discmethod'] == 'Radial Velocity'\n",
    "dfB_RV = df_b[idx2]\n",
    "\n",
    "#dfB_tr.head()\n",
    "#dfB_RV.head()\n",
    "\n",
    "dfB_tr_set = pd.DataFrame(dfB_tr['pl_orbsmax'].dropna())\n",
    "dfB_tr_set['M'] = dfB_tr['pl_bmassj'].dropna()\n",
    "dfB_tr_set.columns = ['P','M']\n",
    "\n",
    "dfB_RV_set = pd.DataFrame(dfB_RV['pl_orbsmax'].dropna())\n",
    "dfB_RV_set['M'] = dfB_RV['pl_bmassj'].dropna()\n",
    "dfB_RV_set.columns = ['P','M']"
   ]
  },
  {
   "cell_type": "code",
   "execution_count": 232,
   "metadata": {
    "collapsed": true
   },
   "outputs": [],
   "source": [
    "#planets discovered since 2009\n",
    "idx1 = df_c['pl_discmethod'] == 'Transit'\n",
    "dfC_tr = df_c[idx1]\n",
    "\n",
    "idx2 = df_c['pl_discmethod'] == 'Radial Velocity'\n",
    "dfC_RV = df_c[idx2]\n",
    "\n",
    "#dfC_tr.head()\n",
    "#dfC_RV.head()\n",
    "\n",
    "dfC_tr_set = pd.DataFrame(dfC_tr['pl_orbsmax'].dropna())\n",
    "dfC_tr_set['M'] = dfC_tr['pl_bmassj'].dropna()\n",
    "dfC_tr_set.columns = ['P','M']\n",
    "\n",
    "dfC_RV_set = pd.DataFrame(dfC_RV['pl_orbsmax'].dropna())\n",
    "dfC_RV_set['M'] = dfC_RV['pl_bmassj'].dropna()\n",
    "dfC_RV_set.columns = ['P','M']"
   ]
  },
  {
   "cell_type": "code",
   "execution_count": 327,
   "metadata": {
    "collapsed": false
   },
   "outputs": [
    {
     "data": {
      "image/png": "[encoded data removed]",
      "text/plain": [
       "<matplotlib.figure.Figure at 0x7f76c41654a8>"
      ]
     },
     "metadata": {},
     "output_type": "display_data"
    }
   ],
   "source": [
    "from matplotlib import pyplot as plt\n",
    "with sb.axes_style('whitegrid'):\n",
    "    fig, ax = plt.subplots(1,1,figsize=(8,5))\n",
    "    ##transit-no fill\n",
    "    #ax.scatter(dfA_tr_set.P.values,dfA_tr_set.M.values, edgecolor='r',facecolor='none') #no data\n",
    "    ax.scatter(dfB_tr_set.P.values,dfB_tr_set.M.values, edgecolor='b',facecolor='none')\n",
    "    ax.scatter(dfC_tr_set.P.values,dfC_tr_set.M.values, edgecolor='k',facecolor='none')\n",
    "\n",
    "    ##RV-filled\n",
    "    ax.scatter(dfA_RV_set.P.values,dfA_RV_set.M.values, label='pre-2000', c='r')\n",
    "    ax.scatter(dfB_RV_set.P.values,dfB_RV_set.M.values, label='2000-2008', c='b')\n",
    "    ax.scatter(dfC_RV_set.P.values,dfC_RV_set.M.values, label='post-2008', c='k')\n",
    "    \n",
    "    ax.set_ylabel('Mass (M$_{Jup}$)')\n",
    "    ax.set_xlabel('Semi-major axis (AU)')\n",
    "    ax.set_xscale('log')\n",
    "    ax.set_ylim(0,30)\n",
    "    ax.set_xlim(0.01,10)\n",
    "    plt.legend(loc='upper left')\n",
    "    plt.show()"
   ]
  },
  {
   "cell_type": "code",
   "execution_count": 320,
   "metadata": {
    "collapsed": false
   },
   "outputs": [
    {
     "data": {
      "image/png": "[encoded data removed]",
      "text/plain": [
       "<matplotlib.figure.Figure at 0x7f76ab6936a0>"
      ]
     },
     "metadata": {},
     "output_type": "display_data"
    }
   ],
   "source": [
    "from matplotlib import pyplot as plt\n",
    "with sb.axes_style('whitegrid'):\n",
    "    ##transit-red ; Rv-blue\n",
    "    fig = plt.figure()\n",
    "    ax = fig.add_subplot(111)\n",
    "    ax.set_ylabel('Mass (M$_{Jup}$)')\n",
    "    #ax.set_xlabel('Period (day)')\n",
    "    #ax.set_xscale('log')\n",
    "    ax.tick_params(labelbottom='off')\n",
    "    ax.yaxis.labelpad = 15\n",
    "    ax.yaxis.set_major_formatter(plt.NullFormatter())\n",
    "    \n",
    "    ax1 = fig.add_subplot(311)\n",
    "    #ax1.scatter(dfA_tr_set.P.values,dfA_tr_set.M.values, label='Transit', c='b')\n",
    "    ax1.scatter(dfA_RV_set.P.values,dfA_RV_set.M.values, label='RV', c='r')\n",
    "    ax1.tick_params(labelbottom='off')\n",
    "    ax1.set_ylim(0,30)\n",
    "    ax1.set_xlim(0.1,10)\n",
    "    ax1.set_xscale('log')\n",
    "    plt.title('pre-2000')\n",
    "    \n",
    "    ax2 = fig.add_subplot(312, sharex=ax1,sharey=ax1)\n",
    "    ax2.scatter(dfB_tr_set.P.values,dfB_tr_set.M.values, label='Transit', c='b')\n",
    "    ax2.scatter(dfB_RV_set.P.values,dfB_RV_set.M.values, label='RV', c='r')\n",
    "    ax2.tick_params(labelbottom='off')\n",
    "    plt.legend()\n",
    "    plt.title('2000-2008')\n",
    "    \n",
    "    ax3 = fig.add_subplot(313, sharex=ax1)\n",
    "    ax3.scatter(dfC_RV_set.P.values,dfC_RV_set.M.values, label='RV', c='r')\n",
    "    ax3.scatter(dfC_tr_set.P.values,dfC_tr_set.M.values, label='Transit', c='b')\n",
    "    ax3.set_xlabel('Semi-major axis (AU)')\n",
    "    plt.title('post-2008')\n",
    "    \n",
    "    plt.show()"
   ]
  },
  {
   "cell_type": "code",
   "execution_count": null,
   "metadata": {
    "collapsed": true
   },
   "outputs": [],
   "source": []
  },
  {
   "cell_type": "code",
   "execution_count": null,
   "metadata": {
    "collapsed": true
   },
   "outputs": [],
   "source": []
  },
  {
   "cell_type": "code",
   "execution_count": null,
   "metadata": {
    "collapsed": true
   },
   "outputs": [],
   "source": []
  },
  {
   "cell_type": "code",
   "execution_count": null,
   "metadata": {
    "collapsed": true
   },
   "outputs": [],
   "source": []
  },
  {
   "cell_type": "code",
   "execution_count": null,
   "metadata": {
    "collapsed": true
   },
   "outputs": [],
   "source": []
  },
  {
   "cell_type": "code",
   "execution_count": null,
   "metadata": {
    "collapsed": true
   },
   "outputs": [],
   "source": []
  }
 ],
 "metadata": {
  "kernelspec": {
   "display_name": "Python 3",
   "language": "python",
   "name": "python3"
  },
  "language_info": {
   "codemirror_mode": {
    "name": "ipython",
    "version": 3
   },
   "file_extension": ".py",
   "mimetype": "text/x-python",
   "name": "python",
   "nbconvert_exporter": "python",
   "pygments_lexer": "ipython3",
   "version": "3.5.2"
  }
 },
 "nbformat": 4,
 "nbformat_minor": 0
}
